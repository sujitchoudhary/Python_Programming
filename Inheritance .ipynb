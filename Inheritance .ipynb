{
 "cells": [
  {
   "cell_type": "markdown",
   "id": "9427d482",
   "metadata": {},
   "source": [
    "# 1. Create a class called Employee that inherits from the Person class. The Employee class should have an additional attribute called employee _id and a method called display employee info that prints out the employee’s name ,age ,gender and employee id."
   ]
  },
  {
   "cell_type": "code",
   "execution_count": 5,
   "id": "b404904f",
   "metadata": {},
   "outputs": [],
   "source": [
    "class Person: # creating class\n",
    "    def __init__(self,name,age,gender): # Giving attributes\n",
    "        self.name=name\n",
    "        self.age=age\n",
    "        self.gender=gender\n",
    "    \n",
    "        \n",
    "class Employee(Person): # Inheriting the class\n",
    "    def __init__(self,name,age,gender,employee_id):\n",
    "        Person.__init__(self,name,age,gender)\n",
    "        self.employee_id=employee_id\n",
    "    def display_employee_info(self):\n",
    "        print(f\"Name: {self.name}\")\n",
    "        print(f\"Age: {self.age}\")\n",
    "        print(f\"Gender: {self.gender}\")\n",
    "        print(f\"Employee ID: {self.employee_id}\")"
   ]
  },
  {
   "cell_type": "code",
   "execution_count": 6,
   "id": "2831cabd",
   "metadata": {},
   "outputs": [],
   "source": [
    "emp=Employee('Sujit',26,'Male',9856) # creating object"
   ]
  },
  {
   "cell_type": "code",
   "execution_count": 7,
   "id": "bdb79bb9",
   "metadata": {},
   "outputs": [
    {
     "name": "stdout",
     "output_type": "stream",
     "text": [
      "Name: Sujit\n",
      "Age: 26\n",
      "Gender: Male\n",
      "Employee ID: 9856\n"
     ]
    }
   ],
   "source": [
    "emp.display_employee_info() # calling method"
   ]
  },
  {
   "cell_type": "markdown",
   "id": "385aeacf",
   "metadata": {},
   "source": [
    "# 2. Create a class called Car that inherits from the Vehicle class. The Car class should have an additional attribute called num_doors and a method called lock _doors that prints out a message indicating that the doors have been locked."
   ]
  },
  {
   "cell_type": "code",
   "execution_count": 8,
   "id": "29f3b990",
   "metadata": {},
   "outputs": [],
   "source": [
    "class Vehicle: # creating class\n",
    "    def __init__(self, make, model, year):  # Giving attributes\n",
    "        self.make = make\n",
    "        self.model = model\n",
    "        self.year = year\n",
    "    def display(self):\n",
    "        print('Make = ',self.make)\n",
    "        print('Model = ',self.model)\n",
    "        print('Year = ',self.year)\n",
    "\n",
    "class Car(Vehicle): # Inheriting the class\n",
    "    def __init__(self, make, model, year, num_doors):\n",
    "        Vehicle.__init__(self,make, model, year)\n",
    "        self.num_doors = num_doors\n",
    "    \n",
    "    def lock_doors(self):\n",
    "        print(f\"{self.num_doors} Doors have been locked\")"
   ]
  },
  {
   "cell_type": "code",
   "execution_count": 9,
   "id": "aa927bf9",
   "metadata": {},
   "outputs": [
    {
     "name": "stdout",
     "output_type": "stream",
     "text": [
      "Make =  Audi\n",
      "Model =  Q4\n",
      "Year =  2022\n",
      "2 Doors have been locked\n"
     ]
    }
   ],
   "source": [
    "c=Car('Audi','Q4',2022,2)  # creating object\n",
    "c.display()  # calling method\n",
    "c.lock_doors()"
   ]
  },
  {
   "cell_type": "markdown",
   "id": "b18d7b7d",
   "metadata": {},
   "source": [
    "# 3. Create a class called Cylinder that inherits from the Circle class. The Cylinder class should have an additional attribute called height and a method called get_volume that calculates and returns the volume of the cylinder."
   ]
  },
  {
   "cell_type": "code",
   "execution_count": 10,
   "id": "7c492c58",
   "metadata": {},
   "outputs": [],
   "source": [
    "import math\n",
    "\n",
    "class Circle:  # creating class\n",
    "    def __init__(self,radius): # Giving attributes\n",
    "        self.radius = radius\n",
    "        \n",
    "class Cylinder(Circle):   # Inheriting the class\n",
    "    def __init__(self,radius,height):\n",
    "        Circle.__init__(self,radius)\n",
    "        self.height = height\n",
    "    def get_volume(self):\n",
    "        print(f'1. The Volume of Circle is ',math.pi*self.radius*self.radius*self.height)\n"
   ]
  },
  {
   "cell_type": "code",
   "execution_count": 11,
   "id": "e1090c11",
   "metadata": {},
   "outputs": [
    {
     "name": "stdout",
     "output_type": "stream",
     "text": [
      "1. The Volume of Circle is  251.32741228718345\n"
     ]
    }
   ],
   "source": [
    "C = Cylinder(4,5)  # creating object\n",
    "C.get_volume()  # calling method"
   ]
  },
  {
   "cell_type": "code",
   "execution_count": null,
   "id": "87e26d4d",
   "metadata": {},
   "outputs": [],
   "source": []
  }
 ],
 "metadata": {
  "kernelspec": {
   "display_name": "Python 3 (ipykernel)",
   "language": "python",
   "name": "python3"
  },
  "language_info": {
   "codemirror_mode": {
    "name": "ipython",
    "version": 3
   },
   "file_extension": ".py",
   "mimetype": "text/x-python",
   "name": "python",
   "nbconvert_exporter": "python",
   "pygments_lexer": "ipython3",
   "version": "3.9.13"
  }
 },
 "nbformat": 4,
 "nbformat_minor": 5
}
