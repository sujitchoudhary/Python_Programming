{
 "cells": [
  {
   "cell_type": "markdown",
   "id": "9a4ab8f3",
   "metadata": {},
   "source": [
    "# Q. 1. Write a program to print yourself introduction."
   ]
  },
  {
   "cell_type": "code",
   "execution_count": 1,
   "id": "97f08a3b",
   "metadata": {},
   "outputs": [
    {
     "name": "stdout",
     "output_type": "stream",
     "text": [
      "Enter your name :- Sujit Choudhary\n",
      "Enter your email:- sujit77094@gmail.com\n",
      "Enter your mobile number :- 9309550252\n",
      "Enter your highest qualification :- Bachelor of science \n",
      "Enter your experience in year :- 2.4 year \n",
      "Enter your date of birth :- 28-07-1996\n",
      "Enter your gender:- Male\n",
      "Enter language you known:- Marathi, Hindi and English\n",
      "Enter your Hobbies:- Travelling and cooking \n"
     ]
    }
   ],
   "source": [
    "name=input('Enter your name :- ')\n",
    "email_id=input('Enter your email:- ')\n",
    "Mobile_number=input('Enter your mobile number :- ')\n",
    "Qualification = input('Enter your highest qualification :- ')\n",
    "Work_experience = input('Enter your experience in year :- ')\n",
    "Date_of_birth =input('Enter your date of birth :- ')\n",
    "Gender=input('Enter your gender:- ')\n",
    "Language_known=input('Enter language you known:- ')\n",
    "Hobbies=input('Enter your Hobbies:- ')"
   ]
  },
  {
   "cell_type": "code",
   "execution_count": null,
   "id": "e578a7f8",
   "metadata": {},
   "outputs": [],
   "source": []
  },
  {
   "cell_type": "code",
   "execution_count": 1,
   "id": "dfb86f16",
   "metadata": {},
   "outputs": [
    {
     "name": "stdout",
     "output_type": "stream",
     "text": [
      "Hello, my name is Sujit Choudhary and I am from Maharashtra . I have completed my schooling and graduation (Bachelor of science ) from Maharashtra. I have 2.4 years of work experience in Store management . Right now I am learning Data Analytics for better future.\n"
     ]
    }
   ],
   "source": [
    "introduction = (\"Hello, my name is Sujit Choudhary and I am from Maharashtra . I have completed my schooling and graduation (Bachelor of science ) from Maharashtra. I have 2.4 years of work experience in Store management . Right now I am learning Data Analytics for better future.\")\n",
    "print(introduction)"
   ]
  },
  {
   "cell_type": "markdown",
   "id": "660eb488",
   "metadata": {},
   "source": [
    "# Q 2. Write a program to perform the following operations: Addition, Subtraction, Multiplication, Division, Modulus, Exponent."
   ]
  },
  {
   "cell_type": "code",
   "execution_count": 4,
   "id": "a3b88a3e",
   "metadata": {},
   "outputs": [
    {
     "name": "stdout",
     "output_type": "stream",
     "text": [
      "Enter the number :120\n",
      "Enter the number :140\n",
      "Addition= 260\n"
     ]
    }
   ],
   "source": [
    "## Addition\n",
    "a = int(input('Enter the number :'))\n",
    "b = int(input('Enter the number :'))\n",
    "\n",
    "add = a+b\n",
    "\n",
    "print('Addition=',add)"
   ]
  },
  {
   "cell_type": "code",
   "execution_count": 5,
   "id": "b446951c",
   "metadata": {},
   "outputs": [
    {
     "name": "stdout",
     "output_type": "stream",
     "text": [
      "Enter the number :200\n",
      "Enter the number :173\n",
      "Subtraction= 27\n"
     ]
    }
   ],
   "source": [
    "## Subtraction\n",
    "a=int(input('Enter the number :'))\n",
    "b=int(input('Enter the number :'))\n",
    "\n",
    "sub = a-b\n",
    "\n",
    "print('Subtraction=',sub)"
   ]
  },
  {
   "cell_type": "code",
   "execution_count": 6,
   "id": "11985f39",
   "metadata": {},
   "outputs": [
    {
     "name": "stdout",
     "output_type": "stream",
     "text": [
      "Enter the number :20\n",
      "Enter the number :12\n",
      "Multiplication= 240\n"
     ]
    }
   ],
   "source": [
    "## Multiplication\n",
    "a=int(input('Enter the number :'))\n",
    "b=int(input('Enter the number :'))\n",
    "\n",
    "mul = a*b\n",
    "\n",
    "print('Multiplication=',mul)"
   ]
  },
  {
   "cell_type": "code",
   "execution_count": 7,
   "id": "384db37b",
   "metadata": {},
   "outputs": [
    {
     "name": "stdout",
     "output_type": "stream",
     "text": [
      "Enter the number :500\n",
      "Enter the number :50\n",
      "Division= 10.0\n"
     ]
    }
   ],
   "source": [
    "## Division\n",
    "a=int(input('Enter the number :'))\n",
    "b=int(input('Enter the number :'))\n",
    "\n",
    "div = a/b\n",
    "\n",
    "print('Division=',div)"
   ]
  },
  {
   "cell_type": "code",
   "execution_count": 9,
   "id": "da954e15",
   "metadata": {},
   "outputs": [
    {
     "name": "stdout",
     "output_type": "stream",
     "text": [
      "Enter the number :2541\n",
      "Enter the number :5\n",
      "Modulus= 1\n"
     ]
    }
   ],
   "source": [
    "## Modulus\n",
    "a=int(input('Enter the number :'))\n",
    "b=int(input('Enter the number :'))\n",
    "\n",
    "mod = a%b\n",
    "\n",
    "print('Modulus=',mod)"
   ]
  },
  {
   "cell_type": "code",
   "execution_count": 11,
   "id": "1f93f18e",
   "metadata": {},
   "outputs": [
    {
     "name": "stdout",
     "output_type": "stream",
     "text": [
      "Enter the number :40\n",
      "Enter the number :50\n",
      "Exponent= 126765060022822940149670320537600000000000000000000000000000000000000000000000000\n"
     ]
    }
   ],
   "source": [
    "## Exponent\n",
    "a=int(input('Enter the number :'))\n",
    "b=int(input('Enter the number :'))\n",
    "\n",
    "exp = a**b\n",
    "\n",
    "print('Exponent=',exp)"
   ]
  },
  {
   "cell_type": "markdown",
   "id": "018b7fec",
   "metadata": {},
   "source": [
    "# Q 3. Write a program to swap two numbers."
   ]
  },
  {
   "cell_type": "code",
   "execution_count": 2,
   "id": "2f908960",
   "metadata": {},
   "outputs": [
    {
     "name": "stdout",
     "output_type": "stream",
     "text": [
      "Enter the number :- 12\n",
      "Enter the number :- 15\n",
      "The value of a before swap:-  12\n",
      "The value of b before swap:-  15\n",
      "The value of a after swap:-  15\n",
      "The value of b after swap:-  12\n"
     ]
    }
   ],
   "source": [
    "a=int(input('Enter the number :- '))\n",
    "b=int(input('Enter the number :- '))\n",
    "\n",
    "print('The value of a before swap:- ',a)\n",
    "print('The value of b before swap:- ',b)\n",
    "\n",
    "temp=a\n",
    "a=b\n",
    "b=temp\n",
    "\n",
    "print('The value of a after swap:- ',a)\n",
    "print('The value of b after swap:- ',b)\n"
   ]
  },
  {
   "cell_type": "markdown",
   "id": "e72016c9",
   "metadata": {},
   "source": [
    "# Q 4. Write a program to swap two numbers w/o using 3rd variable."
   ]
  },
  {
   "cell_type": "code",
   "execution_count": 3,
   "id": "93f8793b",
   "metadata": {},
   "outputs": [
    {
     "name": "stdout",
     "output_type": "stream",
     "text": [
      "Enter the number :- 12\n",
      "Enter the number :- 15\n",
      "The value of a before swap:-  12\n",
      "The value of b before swap:-  15\n",
      "The value of a after swap:-  15\n",
      "The value of b after swap:-  12\n"
     ]
    }
   ],
   "source": [
    "a=int(input('Enter the number :- '))\n",
    "b=int(input('Enter the number :- '))\n",
    "\n",
    "print('The value of a before swap:- ',a)\n",
    "print('The value of b before swap:- ',b).\n",
    "\n",
    "a,b=b,a\n",
    "\n",
    "print('The value of a after swap:- ',a)\n",
    "print('The value of b after swap:- ',b)"
   ]
  },
  {
   "cell_type": "markdown",
   "id": "33da9d77",
   "metadata": {},
   "source": [
    "# Q 5. Write a program to compute simple interest."
   ]
  },
  {
   "cell_type": "code",
   "execution_count": 4,
   "id": "f66205f5",
   "metadata": {},
   "outputs": [
    {
     "name": "stdout",
     "output_type": "stream",
     "text": [
      "Enter the principal amount:- 10000\n",
      "Enter the rate of interest:- 5\n",
      "Enter the time:- 12\n",
      "Simple intrest is:-  6000.0\n"
     ]
    }
   ],
   "source": [
    "p = int(input('Enter the principal amount:- '))\n",
    "r = int(input('Enter the rate of interest:- '))\n",
    "t = int(input('Enter the time:- '))\n",
    "\n",
    "Simple_Interest=(p*r*t)/100\n",
    "\n",
    "print('Simple intrest is:- ',Simple_Interest)"
   ]
  },
  {
   "cell_type": "markdown",
   "id": "0c9cb364",
   "metadata": {},
   "source": [
    "# Q 6. Write a program to find average of 5 numbers by user input."
   ]
  },
  {
   "cell_type": "code",
   "execution_count": 2,
   "id": "ae5f0935",
   "metadata": {},
   "outputs": [
    {
     "name": "stdout",
     "output_type": "stream",
     "text": [
      "Enter the number :- 100\n",
      "Enter the number :- 200\n",
      "Enter the number :- 300\n",
      "Enter the number :- 400\n",
      "Enter the number :- 500\n",
      "Average of given numbers is:-  300.0\n"
     ]
    }
   ],
   "source": [
    "num1=int(input('Enter the number :- '))\n",
    "num2=int(input('Enter the number :- '))\n",
    "num3=int(input('Enter the number :- '))\n",
    "num4=int(input('Enter the number :- '))\n",
    "num5=int(input('Enter the number :- '))\n",
    "\n",
    "ave = (num1+num2+num3+num4+num5)/5\n",
    "\n",
    "print('Average of given numbers is:- ',ave)\n"
   ]
  },
  {
   "cell_type": "markdown",
   "id": "caf15c6e",
   "metadata": {},
   "source": [
    "# Q 7. Write a program to calculate the discriminant of the quadratic equation."
   ]
  },
  {
   "cell_type": "code",
   "execution_count": 3,
   "id": "2e07ea78",
   "metadata": {},
   "outputs": [
    {
     "name": "stdout",
     "output_type": "stream",
     "text": [
      "Enter the value of a :- 7.5\n",
      "Enter the value of b :- 4.8\n",
      "Enter the value of c :- 9.8\n",
      "The discriminant of the quadratic equation is -270.96\n"
     ]
    }
   ],
   "source": [
    "a = float(input('Enter the value of a :- '))\n",
    "b = float(input('Enter the value of b :- '))\n",
    "c = float(input('Enter the value of c :- '))\n",
    "\n",
    "dis = (b**2) - (4*a*c)\n",
    "\n",
    "print('The discriminant of the quadratic equation is',dis)"
   ]
  },
  {
   "cell_type": "markdown",
   "id": "4570ec0a",
   "metadata": {},
   "source": [
    "# Q 8. Write a program to calculate the areas of Rectangle, Square, Triangle and Circle."
   ]
  },
  {
   "cell_type": "code",
   "execution_count": 7,
   "id": "aa544464",
   "metadata": {},
   "outputs": [
    {
     "name": "stdout",
     "output_type": "stream",
     "text": [
      "Enter the length of rectangle:- 12\n",
      "Enter the width of rectangle:- 10\n",
      "Area of rectangle is:-  120\n"
     ]
    }
   ],
   "source": [
    "# area of Rectangle\n",
    "\n",
    "length = int(input('Enter the length of rectangle:- '))\n",
    "Width = int(input('Enter the width of rectangle:- '))\n",
    "\n",
    "area = length * Width\n",
    "\n",
    "print('Area of rectangle is:- ',area)"
   ]
  },
  {
   "cell_type": "code",
   "execution_count": 40,
   "id": "c25b4016",
   "metadata": {},
   "outputs": [
    {
     "name": "stdout",
     "output_type": "stream",
     "text": [
      "Enter the side of square:- 2\n",
      "Area of square is:-  4\n"
     ]
    }
   ],
   "source": [
    "# area of Square\n",
    "\n",
    "side = int(input('Enter the side of square:- '))\n",
    "\n",
    "area = side * side\n",
    "\n",
    "print('Area of square is:- ',area)"
   ]
  },
  {
   "cell_type": "code",
   "execution_count": 11,
   "id": "b84cc10f",
   "metadata": {},
   "outputs": [
    {
     "name": "stdout",
     "output_type": "stream",
     "text": [
      "Enter the base of triangle:- 10\n",
      "Enter the height of triangle:- 12\n",
      "Area of triangle is:-  60.0\n"
     ]
    }
   ],
   "source": [
    "# area of Triangle\n",
    "\n",
    "base = int(input('Enter the base of triangle:- '))\n",
    "height = int(input('Enter the height of triangle:- '))\n",
    "\n",
    "area = (base*height)/2\n",
    "\n",
    "print('Area of triangle is:- ',area)"
   ]
  },
  {
   "cell_type": "code",
   "execution_count": 14,
   "id": "e3c6e2e6",
   "metadata": {},
   "outputs": [
    {
     "name": "stdout",
     "output_type": "stream",
     "text": [
      "Enter the radius of circle:- 6\n",
      "area of circle is:-  113.03999999999999\n"
     ]
    }
   ],
   "source": [
    "# Area of circle\n",
    "\n",
    "radius = int(input('Enter the radius of circle:- '))\n",
    "\n",
    "area = 3.14*radius*radius\n",
    "\n",
    "print('area of circle is:- ',area)"
   ]
  },
  {
   "cell_type": "markdown",
   "id": "9197fb3a",
   "metadata": {},
   "source": [
    "# Q 9. Write a program to calculate net salary of an employee whose basic salary is entered by user, DA is 5% of basic salary, HRA is 7% of basic salary and PF is 3% of basic salary."
   ]
  },
  {
   "cell_type": "code",
   "execution_count": 1,
   "id": "81e8e6ea",
   "metadata": {},
   "outputs": [
    {
     "name": "stdout",
     "output_type": "stream",
     "text": [
      "Enter the basic salary:- 18000\n",
      "DA :-  900.0\n",
      "HRA :-  1260.0000000000002\n",
      "PF :-  540.0\n",
      "Net salary is:- 19620.0\n"
     ]
    }
   ],
   "source": [
    "basic_salary = int(input('Enter the basic salary:- '))\n",
    "DA = .05*basic_salary\n",
    "HRA = .07*basic_salary\n",
    "PF = .03*basic_salary\n",
    "\n",
    "net_salary = (basic_salary+DA+HRA)-PF\n",
    "\n",
    "print('DA :- ',DA)\n",
    "print('HRA :- ',HRA)\n",
    "print('PF :- ',PF)\n",
    "\n",
    "print('Net salary is:-',net_salary)"
   ]
  },
  {
   "cell_type": "markdown",
   "id": "b3d8213a",
   "metadata": {},
   "source": [
    "# Q 10. Write a program to calculate power of number."
   ]
  },
  {
   "cell_type": "code",
   "execution_count": 46,
   "id": "dd4c1f77",
   "metadata": {},
   "outputs": [
    {
     "name": "stdout",
     "output_type": "stream",
     "text": [
      "Enter the base:- 5\n",
      "Enter the exponent:- 3\n",
      "The power of number is :-  125\n"
     ]
    }
   ],
   "source": [
    "base = int(input('Enter the base:- '))\n",
    "exponent = int(input('Enter the exponent:- '))\n",
    "\n",
    "power = base**exponent\n",
    "\n",
    "print('The power of number is :- ',power)\n",
    "# "
   ]
  },
  {
   "cell_type": "markdown",
   "id": "a27a52fb",
   "metadata": {},
   "source": [
    "# Q 11. Write a program to get the python version you are using."
   ]
  },
  {
   "cell_type": "code",
   "execution_count": 29,
   "id": "b525b325",
   "metadata": {},
   "outputs": [],
   "source": [
    "from platform import python_version"
   ]
  },
  {
   "cell_type": "code",
   "execution_count": 30,
   "id": "c546605a",
   "metadata": {},
   "outputs": [
    {
     "data": {
      "text/plain": [
       "'3.9.13'"
      ]
     },
     "execution_count": 30,
     "metadata": {},
     "output_type": "execute_result"
    }
   ],
   "source": [
    "python_version()"
   ]
  },
  {
   "cell_type": "code",
   "execution_count": 34,
   "id": "130547aa",
   "metadata": {},
   "outputs": [
    {
     "name": "stdout",
     "output_type": "stream",
     "text": [
      "Python version\n",
      "3.9.13 (main, Aug 25 2022, 23:51:50) [MSC v.1916 64 bit (AMD64)]\n",
      "Version info.\n",
      "sys.version_info(major=3, minor=9, micro=13, releaselevel='final', serial=0)\n",
      "3.9.13\n"
     ]
    }
   ],
   "source": [
    "\n",
    "import sys \n",
    "print(\"Python version\") \n",
    "print (sys. version) \n",
    "print(\"Version info.\") \n",
    "print (sys. version_info)\n",
    "from platform import python_version \n",
    "print(python_version())\n"
   ]
  },
  {
   "cell_type": "code",
   "execution_count": null,
   "id": "323a824e",
   "metadata": {},
   "outputs": [],
   "source": []
  }
 ],
 "metadata": {
  "kernelspec": {
   "display_name": "Python 3 (ipykernel)",
   "language": "python",
   "name": "python3"
  },
  "language_info": {
   "codemirror_mode": {
    "name": "ipython",
    "version": 3
   },
   "file_extension": ".py",
   "mimetype": "text/x-python",
   "name": "python",
   "nbconvert_exporter": "python",
   "pygments_lexer": "ipython3",
   "version": "3.9.13"
  }
 },
 "nbformat": 4,
 "nbformat_minor": 5
}
