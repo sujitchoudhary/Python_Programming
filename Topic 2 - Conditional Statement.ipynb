{
 "cells": [
  {
   "cell_type": "markdown",
   "id": "2ccb1e44",
   "metadata": {},
   "source": [
    "# Q 1. Write a program to check whether a given              number is even or odd."
   ]
  },
  {
   "cell_type": "code",
   "execution_count": 40,
   "id": "e59b11da",
   "metadata": {},
   "outputs": [
    {
     "name": "stdout",
     "output_type": "stream",
     "text": [
      "Enter the number :-3\n",
      "this is odd number 3\n"
     ]
    }
   ],
   "source": [
    "num = int(input('Enter the number :-'))\n",
    "\n",
    "if num % 2 == 0:\n",
    "    print('this is even number',num)\n",
    "    \n",
    "else:\n",
    "    print('this is odd number',num)"
   ]
  },
  {
   "cell_type": "markdown",
   "id": "1155c94b",
   "metadata": {},
   "source": [
    "# Q 2. Write a program to check whether an alphabet is a vowel or consonant."
   ]
  },
  {
   "cell_type": "code",
   "execution_count": 2,
   "id": "762a4005",
   "metadata": {},
   "outputs": [
    {
     "name": "stdout",
     "output_type": "stream",
     "text": [
      "Enter the alphabet:-x\n",
      "This is consonant:- x\n"
     ]
    }
   ],
   "source": [
    "vowel = 'a','e','i','o','u','A','E','I','O','U'\n",
    "\n",
    "alp = input('Enter the alphabet:-')\n",
    "\n",
    "if alp in vowel:\n",
    "    print('This is vowel:-',alp)\n",
    "    \n",
    "else:\n",
    "    print('This is consonant:-',alp)"
   ]
  },
  {
   "cell_type": "markdown",
   "id": "d46507f6",
   "metadata": {},
   "source": [
    "# Q 3. Write a program to check whether a person is eligible to vote or not."
   ]
  },
  {
   "cell_type": "code",
   "execution_count": 3,
   "id": "028c35fe",
   "metadata": {},
   "outputs": [
    {
     "name": "stdout",
     "output_type": "stream",
     "text": [
      "Enter your age:-18\n",
      "You are eligible for voting \n",
      "thank you\n"
     ]
    }
   ],
   "source": [
    "age = int(input('Enter your age:-'))\n",
    "\n",
    "if age >= 18:\n",
    "    print('You are eligible for voting ')\n",
    "    \n",
    "else:\n",
    "    print('You are not eligible for voting')\n",
    "    \n",
    "print('thank you')"
   ]
  },
  {
   "cell_type": "markdown",
   "id": "36ca1439",
   "metadata": {},
   "source": [
    "# Q 4. Write a program to check whether a given number is positive, negative or zero."
   ]
  },
  {
   "cell_type": "code",
   "execution_count": 44,
   "id": "af51b6d6",
   "metadata": {},
   "outputs": [
    {
     "name": "stdout",
     "output_type": "stream",
     "text": [
      "Enter the number:- 4\n",
      "Number is positive \n"
     ]
    }
   ],
   "source": [
    "num = int(input('Enter the number:- '))\n",
    "\n",
    "if num > 0:\n",
    "    print('Number is positive ')\n",
    "    \n",
    "elif num == 0:\n",
    "    print('Number is zero')\n",
    "    \n",
    "else:\n",
    "    print('Number is negative ')"
   ]
  },
  {
   "cell_type": "markdown",
   "id": "ac38a56a",
   "metadata": {},
   "source": [
    "# Q 5. Write a program to check whether a given year is leap year or not."
   ]
  },
  {
   "cell_type": "code",
   "execution_count": 50,
   "id": "a3d3d5c1",
   "metadata": {},
   "outputs": [
    {
     "name": "stdout",
     "output_type": "stream",
     "text": [
      "Enter the year:- 1700\n",
      "Not a leap year\n"
     ]
    }
   ],
   "source": [
    "year = int(input('Enter the year:- '))\n",
    "\n",
    "if (year % 400 == 0) or (year % 4 ==0) and (year % 100 != 0):\n",
    "    print('Leap year')\n",
    "    \n",
    "else:\n",
    "    print('Not a leap year')"
   ]
  },
  {
   "cell_type": "markdown",
   "id": "c0497294",
   "metadata": {},
   "source": [
    "# Q 6. Write a program to check a triangle is equilateral, isosceles or scalene."
   ]
  },
  {
   "cell_type": "code",
   "execution_count": 36,
   "id": "52e4d526",
   "metadata": {},
   "outputs": [
    {
     "name": "stdout",
     "output_type": "stream",
     "text": [
      "The value of side1:- 3\n",
      "The value of side2:- 3\n",
      "The value of side3:- 3\n",
      "Triangle is equilateral\n"
     ]
    }
   ],
   "source": [
    "side1 = int(input('The value of side1:- '))\n",
    "side2 = int(input('The value of side2:- '))\n",
    "side3 = int(input('The value of side3:- '))\n",
    "\n",
    "if side1 == side2 == side3:\n",
    "    print('Triangle is equilateral')\n",
    "    \n",
    "elif side1 == side2 or side1 == side3 or side2 == side3:\n",
    "    print('Triangle is isosceles')\n",
    "    \n",
    "else:\n",
    "    print('Triangle is scalene')"
   ]
  },
  {
   "cell_type": "markdown",
   "id": "d9aafcf4",
   "metadata": {},
   "source": [
    "# Q 7. Write a program to check whether after selling a product its profit or loss."
   ]
  },
  {
   "cell_type": "code",
   "execution_count": 1,
   "id": "b38462bc",
   "metadata": {},
   "outputs": [
    {
     "name": "stdout",
     "output_type": "stream",
     "text": [
      " Please Enter the Actual Product Price: 1000\n",
      " Please Enter the Sales Amount: 1200\n",
      "Great it's profit. Total profit  Amount =  200.0\n"
     ]
    }
   ],
   "source": [
    "actual_cost = float(input(\" Please Enter the Actual Product Price: \")) \n",
    "sailing_cost = float(input(\" Please Enter the Sales Amount: \")) \n",
    "\n",
    "amount = sailing_cost - actual_cost\n",
    "\n",
    "if(sailing_cost - actual_cost > 0): \n",
    "    print(\"Great it's profit. Total profit  Amount = \",amount)\n",
    "    \n",
    "elif (sailing_cost - actual_cost < 0):\n",
    "    print(\"it's loss. Total loss  Amount = \",abs(amount))\n",
    "    \n",
    "else:\n",
    "    print('No profit no loss')"
   ]
  },
  {
   "cell_type": "markdown",
   "id": "e7c616c2",
   "metadata": {},
   "source": [
    "# Q 8. Write a program to enter two numbers and print the greatest number.\n"
   ]
  },
  {
   "cell_type": "code",
   "execution_count": 57,
   "id": "5c04388a",
   "metadata": {},
   "outputs": [
    {
     "name": "stdout",
     "output_type": "stream",
     "text": [
      "Enter the number:- 2\n",
      "Enter the number:- 1\n",
      "num1 is greatest\n"
     ]
    }
   ],
   "source": [
    "num1 = int(input('Enter the number:- '))\n",
    "num2 = int(input('Enter the number:- '))\n",
    "\n",
    "if num1 > num2:\n",
    "    print('num1 is greatest')\n",
    "else:\n",
    "    print('num2 is greatest')"
   ]
  },
  {
   "cell_type": "markdown",
   "id": "db5b5c35",
   "metadata": {},
   "source": [
    "# Q 9. Write a program to enter two numbers and print the smallest number."
   ]
  },
  {
   "cell_type": "code",
   "execution_count": 60,
   "id": "c2a4410b",
   "metadata": {},
   "outputs": [
    {
     "name": "stdout",
     "output_type": "stream",
     "text": [
      "Enter the number:- 2\n",
      "Enter the number:- 1\n",
      "num2 is smallest\n"
     ]
    }
   ],
   "source": [
    "num1 = int(input('Enter the number:- '))\n",
    "num2 = int(input('Enter the number:- '))\n",
    "\n",
    "if num1 < num2:\n",
    "    print('num1 is smallest')\n",
    "else:\n",
    "    print('num2 is smallest')"
   ]
  },
  {
   "cell_type": "markdown",
   "id": "19e79af0",
   "metadata": {},
   "source": [
    "# Q 10. Write a program to enter three numbers and print the greatest number."
   ]
  },
  {
   "cell_type": "code",
   "execution_count": 65,
   "id": "c7757758",
   "metadata": {},
   "outputs": [
    {
     "name": "stdout",
     "output_type": "stream",
     "text": [
      "Enter the number:- 1\n",
      "Enter the number:- 2\n",
      "Enter the number:- 3\n",
      "Num3 is greatest number\n"
     ]
    }
   ],
   "source": [
    "num1 = int(input('Enter the number:- '))\n",
    "num2 = int(input('Enter the number:- '))\n",
    "num3 = int(input('Enter the number:- '))\n",
    "\n",
    "if num1 > num2 and num1 > num3:\n",
    "    print('Num1 is greatest number')\n",
    "    \n",
    "elif num2 > num1 and num2 > num3:\n",
    "    print('Num2 is greatest number')\n",
    "    \n",
    "elif num3 > num1 and num3 > num2:\n",
    "    print('Num3 is greatest number')\n",
    "    \n",
    "else:\n",
    "    print('all numbers are equal')"
   ]
  },
  {
   "cell_type": "markdown",
   "id": "4455fdf5",
   "metadata": {},
   "source": [
    "# Q 11. Write a program to enter three numbers and print the smallest number."
   ]
  },
  {
   "cell_type": "code",
   "execution_count": 71,
   "id": "1885f632",
   "metadata": {},
   "outputs": [
    {
     "name": "stdout",
     "output_type": "stream",
     "text": [
      "Enter the number:- 1\n",
      "Enter the number:- 2\n",
      "Enter the number:- 3\n",
      "Num1 is smallest number\n"
     ]
    }
   ],
   "source": [
    "num1 = int(input('Enter the number:- '))\n",
    "num2 = int(input('Enter the number:- '))\n",
    "num3 = int(input('Enter the number:- '))\n",
    "\n",
    "if num1 < num2 and num1 < num3:\n",
    "    print('Num1 is smallest number')\n",
    "    \n",
    "elif num2 < num1 and num2 < num3:\n",
    "    print('Num2 is smallest number')\n",
    "    \n",
    "elif num3 < num1 and num3 < num2:\n",
    "    print('Num3 is smallest number')\n",
    "    \n",
    "else:\n",
    "    print('all numbers are equal')"
   ]
  },
  {
   "cell_type": "markdown",
   "id": "eb1f447b",
   "metadata": {},
   "source": [
    "# Q 12. Write a program to calculate the roots of quadratic equation."
   ]
  },
  {
   "cell_type": "code",
   "execution_count": 13,
   "id": "acce0844",
   "metadata": {},
   "outputs": [
    {
     "name": "stdout",
     "output_type": "stream",
     "text": [
      "Enter the coefficient a :1.1\n",
      "Enter the coefficient b :2.2\n",
      "Enter the coefficient c :3.3\n",
      "No Real Roots are there.\n"
     ]
    }
   ],
   "source": [
    "import math\n",
    "a = float(input(\"Enter the coefficient a :\"))\n",
    "b = float(input(\"Enter the coefficient b :\"))\n",
    "c = float(input(\"Enter the coefficient c :\"))\n",
    "dis = (b**2) - (4*a*c)\n",
    "if dis > 0:\n",
    "    r1 = (-b + math.sqrt(dis))/(2*a)\n",
    "    r2 = (-b - math.sqrt(dis))/(2*a)\n",
    "    print(\"Roots are Real and Unequal.\",r1,\"and\",r2)\n",
    "elif dis == 0:\n",
    "    r1 = -b/(2*a)\n",
    "    print(\"Roots are Real and same.\",r1)\n",
    "else:\n",
    "    print(\"No Real Roots are there.\")\n",
    "\n"
   ]
  },
  {
   "cell_type": "markdown",
   "id": "933e0539",
   "metadata": {},
   "source": [
    "# Q 13. Write a program to enter a number between (1 – 7) and print the respective day of the week."
   ]
  },
  {
   "cell_type": "code",
   "execution_count": 3,
   "id": "708070fc",
   "metadata": {},
   "outputs": [
    {
     "name": "stdout",
     "output_type": "stream",
     "text": [
      "Enter the number:- 5\n",
      "It's Friday\n"
     ]
    }
   ],
   "source": [
    "num=int(input('Enter the number:- '))\n",
    "if num==1:\n",
    "    print(\"It's Monday\")\n",
    "elif num==2:\n",
    "    print(\"It's Tuesday\")\n",
    "elif num==3:\n",
    "    print(\"It's Wednesday\")\n",
    "elif num==4:\n",
    "    print(\"It's Thursday\")\n",
    "elif num==5:\n",
    "    print(\"It's Friday\")\n",
    "elif num==6:\n",
    "    print(\"It's Saturday\")\n",
    "elif num==7:\n",
    "    print(\"It's Sunday\")\n",
    "else:\n",
    "    print('check the number')"
   ]
  },
  {
   "cell_type": "markdown",
   "id": "8446bd9b",
   "metadata": {},
   "source": [
    "# Q 14. Write a program to enter a number between (1 – 12) and print the respective months."
   ]
  },
  {
   "cell_type": "code",
   "execution_count": 17,
   "id": "c9b7b53a",
   "metadata": {},
   "outputs": [
    {
     "name": "stdout",
     "output_type": "stream",
     "text": [
      "Enter the number:- 8\n",
      "It's August\n"
     ]
    }
   ],
   "source": [
    "num = int(input('Enter the number:- '))\n",
    "\n",
    "if (num==1):\n",
    "    print (\"It's Jan\")\n",
    "    \n",
    "elif (num==2):\n",
    "    print(\"It's Feb\")\n",
    "    \n",
    "elif (num==3):\n",
    "    print(\"It's March\")\n",
    "    \n",
    "elif (num==4):\n",
    "    print(\"It's April\")\n",
    "    \n",
    "elif (num==5):\n",
    "    print(\"It's May\")\n",
    "    \n",
    "elif (num==6):\n",
    "    print(\"It's June\")\n",
    "    \n",
    "elif (num==7):\n",
    "    print(\"It's July\")\n",
    "    \n",
    "elif (num==8):\n",
    "    print(\"It's August\")\n",
    "    \n",
    "elif(num==9):\n",
    "    print(\"It's September\")\n",
    "    \n",
    "elif(num==10):\n",
    "    print(\"It's October\")\n",
    "    \n",
    "elif(num==11):\n",
    "    print(\"It's November\")\n",
    "    \n",
    "elif(num==12):\n",
    "    print(\"It's December\")\n",
    "    \n",
    "else:\n",
    "    print('Invalid input')\n"
   ]
  },
  {
   "cell_type": "code",
   "execution_count": 1,
   "id": "12fe1d20",
   "metadata": {},
   "outputs": [
    {
     "name": "stdout",
     "output_type": "stream",
     "text": [
      "Enter the month number:- 1\n",
      " It's  January\n"
     ]
    }
   ],
   "source": [
    "import calendar\n",
    "\n",
    "num = int(input('Enter the month number:- '))\n",
    "\n",
    "print(\" It's \", calendar.month_name[num])"
   ]
  },
  {
   "cell_type": "markdown",
   "id": "ac6995c5",
   "metadata": {},
   "source": [
    "# Q 15. Write a program to enter a number between (1 – 4) and perform the following functions.\n",
    "1.Addition\n",
    "2.Subtraction\n",
    "3.Multiplication\n",
    "4.Division\n"
   ]
  },
  {
   "cell_type": "code",
   "execution_count": 24,
   "id": "52967a8b",
   "metadata": {},
   "outputs": [
    {
     "name": "stdout",
     "output_type": "stream",
     "text": [
      "Enter the number which function you want to perform :- 1\n",
      "value of a:- 100\n",
      "value of b:- 200\n",
      "addition is = 300\n"
     ]
    }
   ],
   "source": [
    "num = int(input('Enter the number which function you want to perform :- '))\n",
    "a = int(input('value of a:- '))\n",
    "b = int(input('value of b:- '))\n",
    "\n",
    "if num == 1:\n",
    "    add = a + b\n",
    "    print('addition is =',add)\n",
    "    \n",
    "elif num == 2:\n",
    "    sub = a - b\n",
    "    print('subtraction is =',sub)\n",
    "    \n",
    "elif num == 3:\n",
    "    mul = a * b \n",
    "    print('multiplication is =',mul)\n",
    "    \n",
    "elif num == 4:\n",
    "    div = a / b\n",
    "    print('division is =',div)\n",
    "    \n",
    "else:\n",
    "    print('Please check the number')\n"
   ]
  },
  {
   "cell_type": "markdown",
   "id": "08ebfdd8",
   "metadata": {},
   "source": [
    "# Q 16. Write a program to convert  Temperature from Celsius to Fahrenheit."
   ]
  },
  {
   "cell_type": "code",
   "execution_count": 62,
   "id": "d0914997",
   "metadata": {},
   "outputs": [
    {
     "name": "stdout",
     "output_type": "stream",
     "text": [
      "Enter the temperature:- 37.77\n",
      "Enter the unit of temperature:- c\n",
      "Temperature in fahrenheit is 99.986 F\n"
     ]
    }
   ],
   "source": [
    "temp = float(input('Enter the temperature:- '))\n",
    "unit = input('Enter the unit of temperature:- ')\n",
    "if unit == \"C\" or unit == \"c\":\n",
    "    far = (temp * 1.8) + 32\n",
    "    print(f'Temperature in fahrenheit is {far} F')\n",
    "elif unit == \"F\" or unit == \"f\":\n",
    "    cel = (temp - 32) / 1.8\n",
    "    print(f'Temperature in fahrenheit is {cel} C')\n",
    "else:\n",
    "    print('please check the entered details')"
   ]
  },
  {
   "cell_type": "markdown",
   "id": "904ae3bd",
   "metadata": {},
   "source": [
    "# Q 17. A company decides to give bonus of 5% to employee if his/her year of service is more than 5 years. Ask user for their salary and year of service and print the net bonus amount."
   ]
  },
  {
   "cell_type": "code",
   "execution_count": 33,
   "id": "6bece416",
   "metadata": {},
   "outputs": [
    {
     "name": "stdout",
     "output_type": "stream",
     "text": [
      "Enter your year of service:- 5\n",
      "Enter your salary :- 200000\n",
      "Congratulations you got bonus of  10000.0\n"
     ]
    }
   ],
   "source": [
    "year_of_service = float(input('Enter your year of service:- '))\n",
    "salary = float(input('Enter your salary :- '))\n",
    "\n",
    "if year_of_service >= 5:\n",
    "    bonus = salary * 0.05\n",
    "    print('Congratulations you got bonus of ',bonus)\n",
    "    \n",
    "else:\n",
    "    print('Sorry you are not eligible for bonus')"
   ]
  },
  {
   "cell_type": "markdown",
   "id": "e8b4d94b",
   "metadata": {},
   "source": [
    "# Q 18. Write a program to take input of length and breadth of a rectangle from user and check if it is square or not."
   ]
  },
  {
   "cell_type": "code",
   "execution_count": 6,
   "id": "70ea105d",
   "metadata": {},
   "outputs": [
    {
     "name": "stdout",
     "output_type": "stream",
     "text": [
      "Enter the value of length:- 10\n",
      "Enter the valur of breadth:- 10\n",
      "Rectangle is square\n"
     ]
    }
   ],
   "source": [
    "length = int(input('Enter the value of length:- '))\n",
    "breadth = int(input('Enter the valur of breadth:- '))\n",
    "\n",
    "if length == breadth:\n",
    "    print(\"Rectangle is square\")\n",
    "else:\n",
    "     print(\"Rectangle is not square\")"
   ]
  },
  {
   "cell_type": "markdown",
   "id": "8e272e5e",
   "metadata": {},
   "source": [
    "# Q 19. Take input of age of 3 people from user and determine oldest and youngest among them."
   ]
  },
  {
   "cell_type": "code",
   "execution_count": 3,
   "id": "31086879",
   "metadata": {},
   "outputs": [
    {
     "name": "stdout",
     "output_type": "stream",
     "text": [
      "Enter age Person 1: 10\n",
      "Enter age Person 2: 10\n",
      "Enter age Person 3: 10\n",
      "all persons have same age\n"
     ]
    }
   ],
   "source": [
    "person1 = int(input(\"Enter age Person 1: \"))\n",
    "person2 = int(input(\"Enter age Person 2: \"))\n",
    "person3 = int(input(\"Enter age Person 3: \"))\n",
    "\n",
    "if (person1 > person2) & (person1 > person3):\n",
    "    print('Person 1 is the oldest')\n",
    "    if person2 < person3:\n",
    "        print('Person 2 is the youngest')\n",
    "    else:\n",
    "        print('Person 3 is the youngest')\n",
    "elif (person2 > person1) & (person2 > person3):\n",
    "    print('Person 2 is the oldest')\n",
    "    if person1 < person3:\n",
    "        print('Person 1 is the youngest')\n",
    "    else:\n",
    "        print('Person 3 is the youngest')\n",
    "elif person3>person1 & person3>person2:\n",
    "    print('Person 3 is the oldest')\n",
    "    if person1 < person2:\n",
    "        print('Person 1 is the youngest')\n",
    "    else:\n",
    "        print('Person 2 is the youngest')\n",
    "else:\n",
    "    print('all persons have same age')"
   ]
  },
  {
   "cell_type": "markdown",
   "id": "dd2e0abb",
   "metadata": {},
   "source": [
    "# Q 20. A school has following rules for grading system: a. Below 25 – F b. 25 to 45 – E c. 45 to 50 – D d. 50 to 60 – C e. 60 to 80 – B f. Above 80 – A Ask user to enter their marks and print corresponding grades.\n",
    "\n"
   ]
  },
  {
   "cell_type": "code",
   "execution_count": 4,
   "id": "0ecfdb48",
   "metadata": {
    "scrolled": true
   },
   "outputs": [
    {
     "name": "stdout",
     "output_type": "stream",
     "text": [
      "Enter your marks:- 101\n",
      "please check entered marks\n"
     ]
    }
   ],
   "source": [
    "marks = int(input('Enter your marks:- '))\n",
    "if marks >= 80 and marks <= 100:\n",
    "    print('excellent  you got A grade')\n",
    "elif marks >= 60 and marks < 80:\n",
    "    print('very Good you got B grade')\n",
    "elif marks >= 50 and marks < 60:\n",
    "    print('Good you got C grade')\n",
    "elif marks >= 45 and marks < 50:\n",
    "    print('you got D grade')\n",
    "elif marks >= 25 and marks < 45:\n",
    "    print('You got E grade')\n",
    "elif marks < 25:\n",
    "    print('Your fail')\n",
    "else:\n",
    "    print('please check entered marks')\n",
    "    "
   ]
  },
  {
   "cell_type": "markdown",
   "id": "1f3f6c91",
   "metadata": {},
   "source": [
    "# Q21.A student will not allowed to sit in exam if his/her attendance is less than 75%\n",
    "take following input from user \n",
    "1.Number of class held \n",
    "2.Number of classes attended.\n",
    "3.And print\n",
    "4.Percentage of class attended\n",
    "5.Is student is allowed to sit in exam or not."
   ]
  },
  {
   "cell_type": "code",
   "execution_count": 5,
   "id": "520386a8",
   "metadata": {},
   "outputs": [
    {
     "name": "stdout",
     "output_type": "stream",
     "text": [
      "Enter the total class held:- 100\n",
      "Enter the total classes attended:- 75\n",
      "attendance is75.0%\n",
      "You are allowed to sit in exam\n"
     ]
    }
   ],
   "source": [
    "total_class=int(input('Enter the total class held:- '))\n",
    "attended_class=int(input('Enter the total classes attended:- '))\n",
    "percent = (attended_class/total_class)*100\n",
    "print(f'attendance is{percent}%')\n",
    "if percent >= 75:\n",
    "    print('You are allowed to sit in exam')\n",
    "else:\n",
    "    print('You are not allowed to sit in exam')"
   ]
  },
  {
   "cell_type": "code",
   "execution_count": null,
   "id": "1f9d78bf",
   "metadata": {},
   "outputs": [],
   "source": []
  }
 ],
 "metadata": {
  "kernelspec": {
   "display_name": "Python 3 (ipykernel)",
   "language": "python",
   "name": "python3"
  },
  "language_info": {
   "codemirror_mode": {
    "name": "ipython",
    "version": 3
   },
   "file_extension": ".py",
   "mimetype": "text/x-python",
   "name": "python",
   "nbconvert_exporter": "python",
   "pygments_lexer": "ipython3",
   "version": "3.9.13"
  }
 },
 "nbformat": 4,
 "nbformat_minor": 5
}
