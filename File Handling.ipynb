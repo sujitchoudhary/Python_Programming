{
 "cells": [
  {
   "cell_type": "code",
   "execution_count": 11,
   "id": "6bee2e1c",
   "metadata": {},
   "outputs": [],
   "source": [
    "f=open('my_data.txt','w')"
   ]
  },
  {
   "cell_type": "code",
   "execution_count": 12,
   "id": "bd9ec4c6",
   "metadata": {},
   "outputs": [],
   "source": [
    "f.write('''File handling refers to the process of reading from and writing to files stored on a computer's file system. In programming, files are a common way to store data and information, and file handling provides a way to manipulate and access this data.\n",
    "\n",
    "File handling typically involves opening a file, reading or writing data to it, and then closing the file when finished. Reading data from a file can involve reading the entire contents of the file, or just specific parts of it. Writing data to a file involves creating a new file or overwriting an existing one, and then adding data to the file.\n",
    "\n",
    "File handling is an important part of many programming languages, including Python, Java, and C++. It is often used in applications that need to store and retrieve data over long periods of time, or in programs that need to access large amounts of data quickly.''')\n",
    "f.close()"
   ]
  },
  {
   "cell_type": "markdown",
   "id": "272f2237",
   "metadata": {},
   "source": [
    "# Q1. Write a program to read first 5 characters from the file(my_data.txt)."
   ]
  },
  {
   "cell_type": "code",
   "execution_count": 13,
   "id": "06274386",
   "metadata": {},
   "outputs": [],
   "source": [
    "f=open('my_data.txt','r') "
   ]
  },
  {
   "cell_type": "code",
   "execution_count": 14,
   "id": "13278e3e",
   "metadata": {},
   "outputs": [
    {
     "data": {
      "text/plain": [
       "'File '"
      ]
     },
     "execution_count": 14,
     "metadata": {},
     "output_type": "execute_result"
    }
   ],
   "source": [
    "f.read(5)  "
   ]
  },
  {
   "cell_type": "code",
   "execution_count": 15,
   "id": "6f209338",
   "metadata": {},
   "outputs": [],
   "source": [
    "f.close()"
   ]
  },
  {
   "cell_type": "markdown",
   "id": "bcca437d",
   "metadata": {},
   "source": [
    "# Q2. Write a program to read first line from the file(my_data.txt)"
   ]
  },
  {
   "cell_type": "code",
   "execution_count": 29,
   "id": "aad2a054",
   "metadata": {},
   "outputs": [],
   "source": [
    "f=open('my_data.txt','r')"
   ]
  },
  {
   "cell_type": "code",
   "execution_count": 30,
   "id": "a42c0f54",
   "metadata": {},
   "outputs": [
    {
     "data": {
      "text/plain": [
       "\"File handling refers to the process of reading from and writing to files stored on a computer's file system. In programming, files are a common way to store data and information, and file handling provides a way to manipulate and access this data.\\n\""
      ]
     },
     "execution_count": 30,
     "metadata": {},
     "output_type": "execute_result"
    }
   ],
   "source": [
    "f.readline() "
   ]
  },
  {
   "cell_type": "code",
   "execution_count": 31,
   "id": "370bbda3",
   "metadata": {},
   "outputs": [],
   "source": [
    "f.close()"
   ]
  },
  {
   "cell_type": "markdown",
   "id": "fc1dc150",
   "metadata": {},
   "source": [
    "# Q3. Write a program to display number of lines in a file(my_data.txt)"
   ]
  },
  {
   "cell_type": "code",
   "execution_count": 151,
   "id": "efb46f9a",
   "metadata": {},
   "outputs": [],
   "source": [
    "f=open('my_data.txt','r')"
   ]
  },
  {
   "cell_type": "code",
   "execution_count": 152,
   "id": "54f62d9d",
   "metadata": {},
   "outputs": [
    {
     "name": "stdout",
     "output_type": "stream",
     "text": [
      "number of lines present in my_data.txt file is  248\n"
     ]
    }
   ],
   "source": [
    "print('number of lines present in my_data.txt file is ',(len(f.readline())))"
   ]
  },
  {
   "cell_type": "code",
   "execution_count": 150,
   "id": "420ce703",
   "metadata": {},
   "outputs": [],
   "source": [
    "f.close()"
   ]
  },
  {
   "cell_type": "markdown",
   "id": "03ff3d7c",
   "metadata": {},
   "source": [
    "# Q4. Write a program to display first line from the file my_data.txt using readlines()."
   ]
  },
  {
   "cell_type": "code",
   "execution_count": 36,
   "id": "05d6b071",
   "metadata": {},
   "outputs": [],
   "source": [
    "f=open('my_data.txt','r')"
   ]
  },
  {
   "cell_type": "code",
   "execution_count": 37,
   "id": "f38f32a4",
   "metadata": {},
   "outputs": [
    {
     "data": {
      "text/plain": [
       "[\"File handling refers to the process of reading from and writing to files stored on a computer's file system. In programming, files are a common way to store data and information, and file handling provides a way to manipulate and access this data.\\n\",\n",
       " '\\n',\n",
       " 'File handling typically involves opening a file, reading or writing data to it, and then closing the file when finished. Reading data from a file can involve reading the entire contents of the file, or just specific parts of it. Writing data to a file involves creating a new file or overwriting an existing one, and then adding data to the file.\\n',\n",
       " '\\n',\n",
       " 'File handling is an important part of many programming languages, including Python, Java, and C++. It is often used in applications that need to store and retrieve data over long periods of time, or in programs that need to access large amounts of data quickly.']"
      ]
     },
     "execution_count": 37,
     "metadata": {},
     "output_type": "execute_result"
    }
   ],
   "source": [
    "f.readlines()"
   ]
  },
  {
   "cell_type": "code",
   "execution_count": 38,
   "id": "4c0f943f",
   "metadata": {},
   "outputs": [],
   "source": [
    "f.close()"
   ]
  },
  {
   "cell_type": "markdown",
   "id": "59ac2719",
   "metadata": {},
   "source": [
    "# Q5. Write a program to accept five names from the user and write in a file 'username.txt'"
   ]
  },
  {
   "cell_type": "code",
   "execution_count": 1,
   "id": "30d17d58",
   "metadata": {},
   "outputs": [
    {
     "name": "stdout",
     "output_type": "stream",
     "text": [
      "Enter name: sujit\n",
      "Enter name: rohit\n",
      "Enter name: ram\n",
      "Enter name: sham\n",
      "Enter name: shree\n",
      "sujit,rohit,ram,sham,shree,\n"
     ]
    }
   ],
   "source": [
    "f = open(\"username.txt\", \"w\")\n",
    "\n",
    "for i in range(5):\n",
    "    name = input(\"Enter name: \")\n",
    "    f.write(name + \",\")\n",
    "\n",
    "f = open(\"username.txt\", \"r\")\n",
    "print(f.read())\n",
    "\n",
    "f.close()"
   ]
  },
  {
   "cell_type": "markdown",
   "id": "5f1d6e49",
   "metadata": {},
   "source": [
    "# Q6. Write a program to accept five language names from the user and write in a file 'language.txt'"
   ]
  },
  {
   "cell_type": "code",
   "execution_count": 12,
   "id": "f723f46b",
   "metadata": {},
   "outputs": [
    {
     "name": "stdout",
     "output_type": "stream",
     "text": [
      "Enter language: MARATHI\n",
      "Enter language: HINDI\n",
      "Enter language: ENGLISH\n",
      "Enter language: TAMIL\n",
      "Enter language: TELGU\n",
      "MARATHI,HINDI,ENGLISH,TAMIL,TELGU,\n"
     ]
    }
   ],
   "source": [
    "f = open('language.txt','w')\n",
    "\n",
    "for i in range(5):\n",
    "    language = input('Enter language: ')\n",
    "    f.write(language + ',')\n",
    "    \n",
    "f = open('language.txt','r')\n",
    "print(f.read()) \n",
    "\n",
    "f.close()\n",
    "\n"
   ]
  },
  {
   "cell_type": "markdown",
   "id": "f020ccc5",
   "metadata": {},
   "source": [
    "# Q7. Write a program to accept five hobbies from the user and write in a file 'hobby.txt'(each hobby should write in a separate line) without using write() function."
   ]
  },
  {
   "cell_type": "code",
   "execution_count": 20,
   "id": "ac06f802",
   "metadata": {},
   "outputs": [
    {
     "name": "stdout",
     "output_type": "stream",
     "text": [
      "Enter your hobbie: Cooking \n",
      "Enter your hobbie: playing cricket \n",
      "Enter your hobbie: Reading\n",
      "Enter your hobbie: swimming\n",
      "Enter your hobbie: Travelling \n",
      "Cooking \n",
      "playing cricket \n",
      "Reading\n",
      "swimming\n",
      "Travelling \n",
      "\n"
     ]
    }
   ],
   "source": [
    "f = open('hobby.txt','w+')\n",
    "\n",
    "for i in range(5):\n",
    "    hobbie = input('Enter your hobbie: ')\n",
    "    f.write(hobbie + '\\n')\n",
    "    \n",
    "f = open('hobby.txt','r')\n",
    "print(f.read()) \n",
    "\n",
    "f.close()\n"
   ]
  },
  {
   "cell_type": "markdown",
   "id": "34aa5bd0",
   "metadata": {},
   "source": [
    "# Q8. Write a program to count the numbers of upper-case alphabet present in the text file “article.txt”."
   ]
  },
  {
   "cell_type": "code",
   "execution_count": 22,
   "id": "493c6f93",
   "metadata": {},
   "outputs": [],
   "source": [
    "f=open('article.txt','w')"
   ]
  },
  {
   "cell_type": "code",
   "execution_count": 23,
   "id": "d9ff8830",
   "metadata": {},
   "outputs": [
    {
     "data": {
      "text/plain": [
       "504"
      ]
     },
     "execution_count": 23,
     "metadata": {},
     "output_type": "execute_result"
    }
   ],
   "source": [
    "f.write('''The quick brown fox jumps over the lazy dog.\n",
    "\n",
    "This sentence is commonly used as an example of a pangram, which is a sentence that contains every letter of the alphabet at least once. As you can see, this sentence contains both uppercase and lowercase letters, which is typical of most English sentences.\n",
    "\n",
    "Uppercase letters are often used at the beginning of sentences and for proper nouns, such as names of people, places, and things. For example, \"John\" and \"New York\" both begin with uppercase letters.''')"
   ]
  },
  {
   "cell_type": "code",
   "execution_count": 27,
   "id": "4fffb566",
   "metadata": {},
   "outputs": [],
   "source": [
    "f.close()"
   ]
  },
  {
   "cell_type": "code",
   "execution_count": 28,
   "id": "c666674c",
   "metadata": {},
   "outputs": [
    {
     "name": "stdout",
     "output_type": "stream",
     "text": [
      "The numbers of upper-case alphabet present in the text file “article.txt” is 9\n"
     ]
    }
   ],
   "source": [
    "count = 0\n",
    "\n",
    "f = open('article.txt','r')\n",
    "read = f.read()\n",
    "\n",
    "for i in range(len(read)):\n",
    "    if read [i].isupper():\n",
    "        count+=1\n",
    "\n",
    "print('The numbers of upper-case alphabet present in the text file “article.txt” is',count)\n",
    "\n",
    "f.close()"
   ]
  },
  {
   "cell_type": "markdown",
   "id": "a29b9b09",
   "metadata": {},
   "source": [
    "# Q9. Write a program to count the numbers of lower-case alphabet present in the text file “article.txt”."
   ]
  },
  {
   "cell_type": "code",
   "execution_count": 29,
   "id": "7e65ad7e",
   "metadata": {},
   "outputs": [
    {
     "name": "stdout",
     "output_type": "stream",
     "text": [
      "The numbers of lower-case alphabet present in the text file “article.txt” is 392\n"
     ]
    }
   ],
   "source": [
    "count = 0\n",
    "\n",
    "f = open('article.txt','r')\n",
    "read = f.read()\n",
    "\n",
    "for i in range(len(read)):\n",
    "    if read [i].islower():\n",
    "        count+=1\n",
    "\n",
    "print('The numbers of lower-case alphabet present in the text file “article.txt” is',count)\n",
    "\n",
    "f.close()"
   ]
  },
  {
   "cell_type": "markdown",
   "id": "e44632fc",
   "metadata": {},
   "source": [
    "# Q10. Write a program to count the words ‘to’ and ‘the’ present in the text file “article.txt”."
   ]
  },
  {
   "cell_type": "code",
   "execution_count": 31,
   "id": "0c5b5eaf",
   "metadata": {},
   "outputs": [
    {
     "name": "stdout",
     "output_type": "stream",
     "text": [
      "The count of the word ‘to’ present in the text file “article.txt” is 0\n",
      "The count of the word ‘the’ present in the text file “article.txt” is 4\n"
     ]
    }
   ],
   "source": [
    "to_count = 0\n",
    "the_count = 0\n",
    "\n",
    "f = open('article.txt','r')\n",
    "list = f.readlines()\n",
    "\n",
    "for i in list:\n",
    "    word = i.split()\n",
    "    for j in word:\n",
    "        if j == 'to' or j == 'To' or j == 'TO':\n",
    "            to_count+=1\n",
    "        elif j == 'the' or j =='The' or j == 'THE':\n",
    "            the_count +=1\n",
    "            \n",
    "print('The count of the word ‘to’ present in the text file “article.txt” is',to_count)\n",
    "print('The count of the word ‘the’ present in the text file “article.txt” is',the_count)\n",
    "            \n",
    "f.close()    "
   ]
  },
  {
   "cell_type": "code",
   "execution_count": null,
   "id": "c58e9cf3",
   "metadata": {},
   "outputs": [],
   "source": []
  }
 ],
 "metadata": {
  "kernelspec": {
   "display_name": "Python 3 (ipykernel)",
   "language": "python",
   "name": "python3"
  },
  "language_info": {
   "codemirror_mode": {
    "name": "ipython",
    "version": 3
   },
   "file_extension": ".py",
   "mimetype": "text/x-python",
   "name": "python",
   "nbconvert_exporter": "python",
   "pygments_lexer": "ipython3",
   "version": "3.9.13"
  }
 },
 "nbformat": 4,
 "nbformat_minor": 5
}
