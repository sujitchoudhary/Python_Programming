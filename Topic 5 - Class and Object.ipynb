{
 "cells": [
  {
   "cell_type": "markdown",
   "id": "40bb0500",
   "metadata": {},
   "source": [
    "# 1. Create a class called Rectangle with attributes such as width and height.Define methods to calculate the area and perimeter of the rectangle."
   ]
  },
  {
   "cell_type": "code",
   "execution_count": 1,
   "id": "350e9afb",
   "metadata": {},
   "outputs": [],
   "source": [
    "class Rectangle: # creating  the class\n",
    "    def __init__(self, width, height): # Giving the attribute\n",
    "        self.width = width\n",
    "        self.height = height\n",
    "        \n",
    "    def calculate_area(self): # method to calculate the area\n",
    "        print('1. The Area of Rectangle is ',self.width*self.height)\n",
    "        \n",
    "    def calculate_perimeter(self): # method to calculate Perimeter\n",
    "        print('2. The Perimeter of Rectangle is ',2*(self.width+self.height))"
   ]
  },
  {
   "cell_type": "code",
   "execution_count": 2,
   "id": "d072ecd7",
   "metadata": {},
   "outputs": [],
   "source": [
    "r = Rectangle(3,4) # creating object of class and giving values to attribute "
   ]
  },
  {
   "cell_type": "code",
   "execution_count": 3,
   "id": "69edd4df",
   "metadata": {},
   "outputs": [
    {
     "name": "stdout",
     "output_type": "stream",
     "text": [
      "1. The Area of Rectangle is  12\n",
      "2. The Perimeter of Rectangle is  14\n"
     ]
    }
   ],
   "source": [
    "# calling the methods for calculate area and perimeter\n",
    "r.calculate_area() \n",
    "r.calculate_perimeter()"
   ]
  },
  {
   "cell_type": "markdown",
   "id": "330031f9",
   "metadata": {},
   "source": [
    "# 2. Create a class called Circle with attributes such as radius. Define methods to calculate the area and circumference of the circle."
   ]
  },
  {
   "cell_type": "code",
   "execution_count": 4,
   "id": "84734f4d",
   "metadata": {},
   "outputs": [],
   "source": [
    "import math # importing the math module\n",
    "\n",
    "class Circle:  # creating  the class\n",
    "    def __init__(self,radius): # Giving the attribute\n",
    "        self.radius = radius\n",
    "        \n",
    "    def calculate_area(self): # method to calculate the area\n",
    "        print(f'1. The Area of Circle is ',math.pi*self.radius*self.radius)\n",
    "        \n",
    "    def calculate_circumference(self): # Circumference Calculation\n",
    "        print(f'2. The Circumference of Circle is ',2*math.pi*self.radius)  "
   ]
  },
  {
   "cell_type": "code",
   "execution_count": 5,
   "id": "37c7e793",
   "metadata": {},
   "outputs": [],
   "source": [
    "c = Circle(10) # creating object of class and giving values to attribute "
   ]
  },
  {
   "cell_type": "code",
   "execution_count": 6,
   "id": "8694de9a",
   "metadata": {},
   "outputs": [
    {
     "name": "stdout",
     "output_type": "stream",
     "text": [
      "1. The Area of Circle is  314.1592653589793\n",
      "2. The Circumference of Circle is  62.83185307179586\n"
     ]
    }
   ],
   "source": [
    "# calling the methods for calculate area and circumference\n",
    "c.calculate_area()\n",
    "c.calculate_circumference()"
   ]
  },
  {
   "cell_type": "markdown",
   "id": "693354a4",
   "metadata": {},
   "source": [
    "# 3. Create a class called BankAccount with attributes such as balance and interest_rate. Define methods to deposit, withdraw, and calculate interest on the balance."
   ]
  },
  {
   "cell_type": "code",
   "execution_count": 7,
   "id": "126ff0bb",
   "metadata": {},
   "outputs": [],
   "source": [
    "class BankAccount:  # creating  the class\n",
    "    def __init__(self,balance,interest_rate): # Giving the attribute\n",
    "        self.balance = balance\n",
    "        self.interest_rate = interest_rate\n",
    "        print(\"The deposit, withdraw, and interest on the balance are as followings:\\n \")\n",
    "        print(f\"1. Initial balance is {self.balance}.\")\n",
    "        \n",
    "    def deposit(self,deposit_amount): # Giving the attribute\n",
    "        self.deposit_amount = deposit_amount\n",
    "        print(f'2. Total amount of deposit is {self.balance - self.deposit_amount} .')\n",
    "        \n",
    "    def withdraw(self,withdraw_amount): # Giving the attribute\n",
    "        self.withdraw_amount = withdraw_amount\n",
    "        print(f'3. Total amount of withdraw is {self.withdraw_amount} .')\n",
    "        \n",
    "    def calculate_interest(self):\n",
    "        print(f\"4. The interest on the balance is {self.balance*self.interest_rate}.\")  "
   ]
  },
  {
   "cell_type": "code",
   "execution_count": 9,
   "id": "7ffcbffc",
   "metadata": {},
   "outputs": [
    {
     "name": "stdout",
     "output_type": "stream",
     "text": [
      "The deposit, withdraw, and interest on the balance are as followings:\n",
      " \n",
      "1. Initial balance is 10000.\n",
      "2. Total amount of deposit is 5000 .\n",
      "3. Total amount of withdraw is 1001 .\n",
      "4. The interest on the balance is 1000.0.\n"
     ]
    }
   ],
   "source": [
    "# creating object\n",
    "ba = BankAccount(10000,0.10)\n",
    "# Calling Methods\n",
    "ba.deposit(5000)\n",
    "ba.withdraw(1001)\n",
    "ba.calculate_interest()"
   ]
  },
  {
   "cell_type": "markdown",
   "id": "69142487",
   "metadata": {},
   "source": [
    "# 4. Create a class called Person with attributes name ,age and gender .Include a method called Introduce that prints out a message introducing the person with their name, age and gender."
   ]
  },
  {
   "cell_type": "code",
   "execution_count": 10,
   "id": "6b5c33d6",
   "metadata": {},
   "outputs": [],
   "source": [
    "class Person:  # creating  the class\n",
    "    def __init__(self,name,age,gender): # Giving the attribute\n",
    "        self.name = name\n",
    "        self.age = age\n",
    "        self.gender = gender\n",
    "        \n",
    "    def Introduce(self):\n",
    "        print('1. Name:', self.name)\n",
    "        print('2. Age:', self.age)\n",
    "        print('3. Gender:', self.gender)"
   ]
  },
  {
   "cell_type": "code",
   "execution_count": 11,
   "id": "3b5b6ad3",
   "metadata": {},
   "outputs": [],
   "source": [
    "p = Person('Sujit',26,'Male') # creating object"
   ]
  },
  {
   "cell_type": "code",
   "execution_count": 12,
   "id": "38fd61b4",
   "metadata": {},
   "outputs": [
    {
     "name": "stdout",
     "output_type": "stream",
     "text": [
      "1. Name: Sujit\n",
      "2. Age: 26\n",
      "3. Gender: Male\n"
     ]
    }
   ],
   "source": [
    "p.Introduce() # Calling Methods"
   ]
  },
  {
   "cell_type": "markdown",
   "id": "8272b5a6",
   "metadata": {},
   "source": [
    "# 5. Create a class called Vehicle with attributes make, model and year. Include a method called start_engine that prints out a message indicating that engine has started."
   ]
  },
  {
   "cell_type": "code",
   "execution_count": 21,
   "id": "56449d2b",
   "metadata": {},
   "outputs": [],
   "source": [
    "class Vehicle:  # creating  the class\n",
    "    def __init__(self,make,model,year): # Giving the attribute\n",
    "        self.make = make\n",
    "        self.model = model\n",
    "        self.year = year\n",
    "        \n",
    "    def start_engine(self):\n",
    "        print(f\"The engine has started of {self.make} {self.model} built in year {self.year}.\")\n",
    "        # or (Optional Statement)\n",
    "        #print(f\"The engine is made by {self.make} and the model is {self.model} {self.year}.\")"
   ]
  },
  {
   "cell_type": "code",
   "execution_count": 22,
   "id": "0c8f2c2d",
   "metadata": {},
   "outputs": [
    {
     "name": "stdout",
     "output_type": "stream",
     "text": [
      "The engine has started of Jeep Compass built in year 2021.\n"
     ]
    }
   ],
   "source": [
    "car = Vehicle(\"Jeep\", \"Compass\", 2021) # creating object\n",
    "car.start_engine() # Calling Methods"
   ]
  },
  {
   "cell_type": "code",
   "execution_count": null,
   "id": "713df60e",
   "metadata": {},
   "outputs": [],
   "source": []
  }
 ],
 "metadata": {
  "kernelspec": {
   "display_name": "Python 3 (ipykernel)",
   "language": "python",
   "name": "python3"
  },
  "language_info": {
   "codemirror_mode": {
    "name": "ipython",
    "version": 3
   },
   "file_extension": ".py",
   "mimetype": "text/x-python",
   "name": "python",
   "nbconvert_exporter": "python",
   "pygments_lexer": "ipython3",
   "version": "3.9.13"
  }
 },
 "nbformat": 4,
 "nbformat_minor": 5
}
