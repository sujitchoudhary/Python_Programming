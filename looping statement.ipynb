{
 "cells": [
  {
   "cell_type": "markdown",
   "id": "000e3cae",
   "metadata": {},
   "source": [
    "# Q1. Write a program to print Hello python ten times."
   ]
  },
  {
   "cell_type": "code",
   "execution_count": 3,
   "id": "cc91814c",
   "metadata": {},
   "outputs": [
    {
     "name": "stdout",
     "output_type": "stream",
     "text": [
      "1 hello\n",
      "2 hello\n",
      "3 hello\n",
      "4 hello\n",
      "5 hello\n",
      "6 hello\n",
      "7 hello\n",
      "8 hello\n",
      "9 hello\n",
      "10 hello\n"
     ]
    }
   ],
   "source": [
    "i=1\n",
    "while i<=10:\n",
    "    print(i,'hello')\n",
    "    i=i+1"
   ]
  },
  {
   "cell_type": "markdown",
   "id": "5f1ea775",
   "metadata": {},
   "source": [
    "# Q2. write a program to print number from 1 to 10."
   ]
  },
  {
   "cell_type": "code",
   "execution_count": 4,
   "id": "ccc82ffc",
   "metadata": {},
   "outputs": [
    {
     "name": "stdout",
     "output_type": "stream",
     "text": [
      "1\n",
      "2\n",
      "3\n",
      "4\n",
      "5\n",
      "6\n",
      "7\n",
      "8\n",
      "9\n",
      "10\n"
     ]
    }
   ],
   "source": [
    "i=1\n",
    "while i<=10:\n",
    "    print(i)\n",
    "    i=i+1"
   ]
  },
  {
   "cell_type": "markdown",
   "id": "0006af39",
   "metadata": {},
   "source": [
    "# Q3.write a program to print sum of first ten number."
   ]
  },
  {
   "cell_type": "code",
   "execution_count": 12,
   "id": "43130a8b",
   "metadata": {},
   "outputs": [
    {
     "name": "stdout",
     "output_type": "stream",
     "text": [
      "55\n"
     ]
    }
   ],
   "source": [
    "add=0\n",
    "i=1\n",
    "while i<=10:\n",
    "    add=add+i\n",
    "    i=i+1\n",
    "print(add)"
   ]
  },
  {
   "cell_type": "markdown",
   "id": "eb69cd09",
   "metadata": {},
   "source": [
    "# Q4.Write a program to print n number entered by the user. "
   ]
  },
  {
   "cell_type": "code",
   "execution_count": 11,
   "id": "d868d46a",
   "metadata": {},
   "outputs": [
    {
     "name": "stdout",
     "output_type": "stream",
     "text": [
      "Enter the number:- 15\n",
      "1\n",
      "2\n",
      "3\n",
      "4\n",
      "5\n",
      "6\n",
      "7\n",
      "8\n",
      "9\n",
      "10\n",
      "11\n",
      "12\n",
      "13\n",
      "14\n",
      "15\n"
     ]
    }
   ],
   "source": [
    "num=int(input('Enter the number:- '))\n",
    "i=1\n",
    "while i<=num:\n",
    "    print(i)\n",
    "    i=i+1"
   ]
  },
  {
   "cell_type": "markdown",
   "id": "3b34afd4",
   "metadata": {},
   "source": [
    "# Q5.Write a program to print sum of  n numbers."
   ]
  },
  {
   "cell_type": "code",
   "execution_count": 13,
   "id": "4808cea9",
   "metadata": {},
   "outputs": [
    {
     "name": "stdout",
     "output_type": "stream",
     "text": [
      "Enter the number to add :- 100\n",
      "5050\n"
     ]
    }
   ],
   "source": [
    "num=int(input('Enter the number to add :- '))\n",
    "add=0\n",
    "i=1\n",
    "while i<=num:\n",
    "    add=add+i\n",
    "    i=i+1\n",
    "print(add)"
   ]
  },
  {
   "cell_type": "markdown",
   "id": "128ea834",
   "metadata": {},
   "source": [
    "# Q6.Write a program to print table of a number."
   ]
  },
  {
   "cell_type": "code",
   "execution_count": 17,
   "id": "153e8dea",
   "metadata": {},
   "outputs": [
    {
     "name": "stdout",
     "output_type": "stream",
     "text": [
      "Enter the no: 10\n",
      "10\n",
      "20\n",
      "30\n",
      "40\n",
      "50\n",
      "60\n",
      "70\n",
      "80\n",
      "90\n",
      "100\n"
     ]
    }
   ],
   "source": [
    "n = int(input('Enter the no: '))\n",
    "for i in range(1,11):\n",
    "    print(n*i)"
   ]
  },
  {
   "cell_type": "markdown",
   "id": "13406c01",
   "metadata": {},
   "source": [
    "# Q7. Write a program to calculate the factorial of a number"
   ]
  },
  {
   "cell_type": "code",
   "execution_count": 8,
   "id": "0e347312",
   "metadata": {},
   "outputs": [
    {
     "name": "stdout",
     "output_type": "stream",
     "text": [
      "Enter the number to find factorial:- 4\n",
      "The factorial of 4 is 24\n"
     ]
    }
   ],
   "source": [
    "num=int(input('Enter the number to find factorial:- '))\n",
    "factorial=1\n",
    "for i in range(1,num + 1):\n",
    "    factorial = factorial*i\n",
    "print(\"The factorial of\",num,\"is\",factorial)"
   ]
  },
  {
   "cell_type": "markdown",
   "id": "7b217a91",
   "metadata": {},
   "source": [
    "# Q8.Write a program to print even number between 1 to 100."
   ]
  },
  {
   "cell_type": "code",
   "execution_count": 14,
   "id": "1ce3d732",
   "metadata": {},
   "outputs": [
    {
     "name": "stdout",
     "output_type": "stream",
     "text": [
      "Enter the starting number:- 1\n",
      "Enter the ending number:- 100\n",
      "2 4 6 8 10 12 14 16 18 20 22 24 26 28 30 32 34 36 38 40 42 44 46 48 50 52 54 56 58 60 62 64 66 68 70 72 74 76 78 80 82 84 86 88 90 92 94 96 98 100 These are Even numbers\n"
     ]
    }
   ],
   "source": [
    "start=int(input('Enter the starting number:- '))\n",
    "End=int(input('Enter the ending number:- '))\n",
    "for i in range(start,End+1):\n",
    "    if i%2==0:\n",
    "        print(i,end=' ')\n",
    "print('These are Even numbers')"
   ]
  },
  {
   "cell_type": "markdown",
   "id": "1185e79b",
   "metadata": {},
   "source": [
    "# Q9.Write a program to print odd number between 1 to 100."
   ]
  },
  {
   "cell_type": "code",
   "execution_count": 22,
   "id": "29ab926e",
   "metadata": {},
   "outputs": [
    {
     "name": "stdout",
     "output_type": "stream",
     "text": [
      "Enter the starting number:- 1\n",
      "Enter the ending number:- 100\n",
      "1 3 5 7 9 11 13 15 17 19 21 23 25 27 29 31 33 35 37 39 41 43 45 47 49 51 53 55 57 59 61 63 65 67 69 71 73 75 77 79 81 83 85 87 89 91 93 95 97 99 These are odd numbers\n"
     ]
    }
   ],
   "source": [
    "start=int(input('Enter the starting number:- '))\n",
    "End=int(input('Enter the ending number:- '))\n",
    "for i in range(start,End+1):\n",
    "    if i%2==1:\n",
    "        print(i,end=' ')\n",
    "print('These are odd numbers')"
   ]
  },
  {
   "cell_type": "markdown",
   "id": "200b70b5",
   "metadata": {},
   "source": [
    "# Q10.Write a program to check whether a given number is palindrome or not."
   ]
  },
  {
   "cell_type": "code",
   "execution_count": 5,
   "id": "8b673dfd",
   "metadata": {},
   "outputs": [
    {
     "name": "stdout",
     "output_type": "stream",
     "text": [
      "Enter a number:151\n",
      "This value is a palindrome number!\n"
     ]
    }
   ],
   "source": [
    "num = int(input(\"Enter a number:\"))  \n",
    "temp = num  \n",
    "rev = 0  \n",
    "while num > 0:  \n",
    "    dig = num % 10\n",
    "    rev = rev * 10 + dig  \n",
    "    num = num // 10  \n",
    "if temp == rev:  \n",
    "    print(\"This value is a palindrome number!\")  \n",
    "else:  \n",
    "    print(\"This value is not a palindrome number!\") "
   ]
  },
  {
   "cell_type": "markdown",
   "id": "8114b303",
   "metadata": {},
   "source": [
    "# Q11.Write a program to find factors of a number."
   ]
  },
  {
   "cell_type": "code",
   "execution_count": 18,
   "id": "f63defd1",
   "metadata": {},
   "outputs": [
    {
     "name": "stdout",
     "output_type": "stream",
     "text": [
      "Enter the number:- 4\n",
      "1,2,4,These are factors of 4\n"
     ]
    }
   ],
   "source": [
    "num=int(input('Enter the number:- '))\n",
    "for i in range (1,num+1):\n",
    "    if num % i == 0:\n",
    "        print(i,end=',')\n",
    "print('These are factors of',num)"
   ]
  },
  {
   "cell_type": "markdown",
   "id": "7557fe7f",
   "metadata": {},
   "source": [
    "# Q12.Write a program to print reverse of a number."
   ]
  },
  {
   "cell_type": "code",
   "execution_count": 1,
   "id": "b7b45604",
   "metadata": {},
   "outputs": [
    {
     "name": "stdout",
     "output_type": "stream",
     "text": [
      "Enter a number:123456\n",
      "Reverse of given number is 654321\n"
     ]
    }
   ],
   "source": [
    "num = int(input(\"Enter a number:\"))\n",
    "rev = 0  \n",
    "for i in range (0,num):\n",
    "    while num > 0:\n",
    "        dig = num % 10\n",
    "        rev = rev * 10 + dig\n",
    "        num = num // 10 \n",
    "print('Reverse of given number is',rev)"
   ]
  },
  {
   "cell_type": "markdown",
   "id": "45febe79",
   "metadata": {},
   "source": [
    "# Q13.Write a program to print the sum of reverse of a number."
   ]
  },
  {
   "cell_type": "code",
   "execution_count": 2,
   "id": "eafb0bac",
   "metadata": {},
   "outputs": [
    {
     "name": "stdout",
     "output_type": "stream",
     "text": [
      "Enter a number:-12365\n",
      "sum of reverse number is:- 0\n"
     ]
    }
   ],
   "source": [
    "num = int(input(\"Enter a number:\"))\n",
    "rev = 0  \n",
    "sum = 0\n",
    "for i in range (0,num):\n",
    "    while num > 0:\n",
    "        dig = num % 10\n",
    "        rev = rev * 10 + dig\n",
    "        num = num // 10 \n",
    "        sum+=dig\n",
    "#print('Reverse of given number is',rev)\n",
    "print('sum of reverse number is:-',sum)"
   ]
  },
  {
   "cell_type": "markdown",
   "id": "fd44dc0d",
   "metadata": {},
   "source": [
    "# Q14.Write a program to check whether a given number is prime or not.\n"
   ]
  },
  {
   "cell_type": "code",
   "execution_count": 21,
   "id": "a268383a",
   "metadata": {},
   "outputs": [
    {
     "name": "stdout",
     "output_type": "stream",
     "text": [
      "enter number11\n",
      "Given number is prime\n"
     ]
    }
   ],
   "source": [
    "n=int(input('enter number '))\n",
    "for i in range(2,n):\n",
    "    if n % i ==0:\n",
    "        print(n,'is not a prime')\n",
    "        break\n",
    "else:\n",
    "    print('Given number is prime')"
   ]
  },
  {
   "cell_type": "markdown",
   "id": "c3e7ea27",
   "metadata": {},
   "source": [
    "# Q15.Write a program to print prime number between 1 to 100."
   ]
  },
  {
   "cell_type": "code",
   "execution_count": 32,
   "id": "e48edfed",
   "metadata": {},
   "outputs": [
    {
     "name": "stdout",
     "output_type": "stream",
     "text": [
      "Enter the starting number:- 1\n",
      "Enter the ending number:- 100\n",
      "2 3 5 7 11 13 17 19 23 29 31 37 41 43 47 53 59 61 67 71 73 79 83 89 97 These are prime numbers between 1 to 100\n"
     ]
    }
   ],
   "source": [
    "start=int(input('Enter the starting number:- '))\n",
    "end=int(input('Enter the ending number:- '))\n",
    "for Number in range (start,end+1):\n",
    "    prime = 0\n",
    "    for i in range(2, (Number//2 + 1)):\n",
    "        if(Number % i == 0):\n",
    "            prime = prime + 1\n",
    "           # break\n",
    "\n",
    "    if (prime == 0 and Number != 1):\n",
    "        print(Number,end=' ')\n",
    "print('These are prime numbers between',start,'to',end)\n"
   ]
  },
  {
   "cell_type": "markdown",
   "id": "7b94557b",
   "metadata": {},
   "source": [
    "# Q16.Write a program to print number in reverse order entered by the user."
   ]
  },
  {
   "cell_type": "code",
   "execution_count": 33,
   "id": "91aa118d",
   "metadata": {},
   "outputs": [
    {
     "name": "stdout",
     "output_type": "stream",
     "text": [
      "Enter a number:123456\n",
      "Reverse of given number is 654321\n"
     ]
    }
   ],
   "source": [
    "num = int(input(\"Enter a number:\"))\n",
    "rev = 0  \n",
    "for i in range (0,num):\n",
    "    while num > 0:\n",
    "        dig = num % 10\n",
    "        rev = rev * 10 + dig\n",
    "        num = num // 10 \n",
    "print('Reverse of given number is',rev)"
   ]
  },
  {
   "cell_type": "markdown",
   "id": "92cf80b2",
   "metadata": {},
   "source": [
    "# Q17.Write a program to print the cube of all numbers from 1 to given number"
   ]
  },
  {
   "cell_type": "code",
   "execution_count": 40,
   "id": "2e04b890",
   "metadata": {},
   "outputs": [
    {
     "name": "stdout",
     "output_type": "stream",
     "text": [
      "Enter the number:- 10\n",
      "1,8,27,64,125,216,343,512,729,1000,This is cube of given number\n"
     ]
    }
   ],
   "source": [
    "num=int(input('Enter the number:- '))\n",
    "for i in range (1,num+1):\n",
    "    i=i*i*i\n",
    "    print(i,end=',')\n",
    "print('This is cube of given number')"
   ]
  },
  {
   "cell_type": "code",
   "execution_count": 3,
   "id": "e3b4bc35",
   "metadata": {},
   "outputs": [
    {
     "name": "stdout",
     "output_type": "stream",
     "text": [
      "Enter a number: 123\n",
      "The sum of 0 and its reverse is 321\n"
     ]
    }
   ],
   "source": [
    "n = int(input(\"Enter a number: \"))\n",
    "reverse = 0\n",
    "while n > 0:\n",
    "    digit = n % 10\n",
    "    reverse = reverse * 10 + digit\n",
    "    n = n // 10\n",
    "print(\"The sum of\", n, \"and its reverse is\", n + reverse)"
   ]
  },
  {
   "cell_type": "code",
   "execution_count": 5,
   "id": "dd9bcb06",
   "metadata": {},
   "outputs": [
    {
     "name": "stdout",
     "output_type": "stream",
     "text": [
      "Enter a number:123\n",
      "Reverse of given number is 321\n",
      "sum of reverse number is:- 6\n"
     ]
    }
   ],
   "source": [
    "num = int(input(\"Enter a number:\"))\n",
    "rev = 0  \n",
    "sum = 0\n",
    "for i in range (0,num):\n",
    "    while num > 0:\n",
    "        dig = num % 10\n",
    "        rev = rev * 10 + dig\n",
    "        num = num // 10 \n",
    "        sum+=dig\n",
    "print('Reverse of given number is',rev)\n",
    "print('sum of reverse number is:-',sum)"
   ]
  },
  {
   "cell_type": "markdown",
   "id": "163c6c12",
   "metadata": {},
   "source": [
    "# Q18.Write a program to count the total number of digits in a number."
   ]
  },
  {
   "cell_type": "code",
   "execution_count": 1,
   "id": "70cdb353",
   "metadata": {},
   "outputs": [
    {
     "name": "stdout",
     "output_type": "stream",
     "text": [
      "Enter a number: 123456789\n",
      "The number of digits in the entered number is: 9\n"
     ]
    }
   ],
   "source": [
    "number = int(input(\"Enter a number: \"))\n",
    "count = 0\n",
    "\n",
    "for digit in str(number):\n",
    "    count += 1\n",
    "\n",
    "print(\"The number of digits in the entered number is:\", count)"
   ]
  },
  {
   "cell_type": "markdown",
   "id": "63415e75",
   "metadata": {},
   "source": [
    "# Q19.Write a program to print fibonacci series"
   ]
  },
  {
   "cell_type": "code",
   "execution_count": 6,
   "id": "81de1a7c",
   "metadata": {},
   "outputs": [
    {
     "name": "stdout",
     "output_type": "stream",
     "text": [
      "Enter the number of terms: 10\n",
      "Fibonacci series:\n",
      "0\n",
      "1\n",
      "1\n",
      "2\n",
      "3\n",
      "5\n",
      "8\n",
      "13\n",
      "21\n",
      "34\n"
     ]
    }
   ],
   "source": [
    "n = int(input(\"Enter the number of terms: \"))\n",
    "a, b = 0, 1\n",
    "\n",
    "if n <= 0:\n",
    "    print(\"Invalid input. Please enter a positive integer.\")\n",
    "elif n == 1:\n",
    "    print(\"Fibonacci series upto\", n, \":\")\n",
    "    print(a)\n",
    "else:\n",
    "    print(\"Fibonacci series:\")\n",
    "    for i in range(n):\n",
    "        print(a)\n",
    "        c = a + b\n",
    "        a, b = b, c"
   ]
  },
  {
   "cell_type": "markdown",
   "id": "344c4b70",
   "metadata": {},
   "source": [
    "# Q20.Writ a program to check whether a given number is amstrong number or not."
   ]
  },
  {
   "cell_type": "code",
   "execution_count": 7,
   "id": "381da3cd",
   "metadata": {},
   "outputs": [
    {
     "name": "stdout",
     "output_type": "stream",
     "text": [
      "Enter the number to check : 542\n",
      "542 is not an Amstrong number\n"
     ]
    }
   ],
   "source": [
    "num=int(input('Enter the number to check : '))\n",
    "sum=0\n",
    "pow=len(str(num))\n",
    "copy_num=num\n",
    "while num > 0:\n",
    "    dig = num % 10\n",
    "    sum += dig ** pow\n",
    "    num = num // 10\n",
    "if sum == copy_num:\n",
    "    print(f'{copy_num} is an Amstrong number')\n",
    "    \n",
    "else:\n",
    "    print(f'{copy_num} is not an Amstrong number')\n"
   ]
  },
  {
   "cell_type": "markdown",
   "id": "bf7f29a8",
   "metadata": {},
   "source": [
    "# Q21.Write a program to check whether a given number is strong number or not."
   ]
  },
  {
   "cell_type": "code",
   "execution_count": 8,
   "id": "ae86e395",
   "metadata": {},
   "outputs": [
    {
     "name": "stdout",
     "output_type": "stream",
     "text": [
      "Enter the number to check: 452\n",
      "452 is not a strong number\n"
     ]
    }
   ],
   "source": [
    "num = int(input('Enter the number to check: '))\n",
    "temp=num\n",
    "sum=0\n",
    "while num>0:\n",
    "    dig=num%10\n",
    "    fact=1\n",
    "    #print('Digit=',dig)\n",
    "    for i in range (1,dig+1):\n",
    "        fact=fact*i\n",
    "        #print('Fact',fact)\n",
    "    sum=sum+fact\n",
    "    #print('Sum',sum)\n",
    "    num=num//10\n",
    "if sum == temp:\n",
    "    print(f'{temp} is a strong number')\n",
    "else:\n",
    "    print(f'{temp} is not a strong number')"
   ]
  },
  {
   "cell_type": "markdown",
   "id": "2ae8d197",
   "metadata": {},
   "source": [
    "# Q22.Write a program to check whether a given number is perfect number or not\n"
   ]
  },
  {
   "cell_type": "code",
   "execution_count": 9,
   "id": "62642d5f",
   "metadata": {},
   "outputs": [
    {
     "name": "stdout",
     "output_type": "stream",
     "text": [
      "Enter the number145\n",
      "145 is not a perfect number\n"
     ]
    }
   ],
   "source": [
    "num=int(input('Enter the number'))\n",
    "sum=0\n",
    "\n",
    "for i in range(1,num):\n",
    "    if num % i ==0:\n",
    "        sum +=i\n",
    "if sum==num:\n",
    "    print(f'{num} is a perfect number')\n",
    "else:\n",
    "    print(f'{num} is not a perfect number')"
   ]
  },
  {
   "cell_type": "markdown",
   "id": "ca331d83",
   "metadata": {},
   "source": [
    "# Q23.Write a program to find numbers which are divisible by 7 and multiple of 5, between 1000 and 2000."
   ]
  },
  {
   "cell_type": "code",
   "execution_count": 17,
   "id": "91d56b1f",
   "metadata": {},
   "outputs": [
    {
     "name": "stdout",
     "output_type": "stream",
     "text": [
      "1015,1050,1085,1120,1155,1190,1225,1260,1295,1330,1365,1400,1435,1470,1505,1540,1575,1610,1645,1680,1715,1750,1785,1820,1855,1890,1925,1960,1995,   these numbers are divisible by 7 and multiple of 5\n"
     ]
    }
   ],
   "source": [
    "for num in range(1000,2001):\n",
    "    if num % 7 ==0 and num % 5 ==0:\n",
    "        print(num,end=\",\")\n",
    "print('   these numbers are divisible by 7 and multiple of 5')"
   ]
  },
  {
   "cell_type": "markdown",
   "id": "df3f1db5",
   "metadata": {},
   "source": [
    "# Q24.Write a program to print the following number pattern using loop\n",
    "a)1        b)1        c)54321   d)12345  e)5 4 3 2 1\n",
    "  12         22         5432      1234     4 3 2 1\n",
    "  123        333        543       123      3 2 1\n",
    "  1234       4444       54        12       2 1\n",
    "  12345      55555      5         1        1"
   ]
  },
  {
   "cell_type": "code",
   "execution_count": 18,
   "id": "9986ad19",
   "metadata": {},
   "outputs": [
    {
     "name": "stdout",
     "output_type": "stream",
     "text": [
      "1\n",
      "12\n",
      "123\n",
      "1234\n",
      "12345\n"
     ]
    }
   ],
   "source": [
    "#A)\n",
    "\n",
    "for i in range(1, 6):\n",
    "    for j in range(1, i+1):\n",
    "        print(j, end='')\n",
    "    print()"
   ]
  },
  {
   "cell_type": "code",
   "execution_count": 19,
   "id": "cd57116a",
   "metadata": {},
   "outputs": [
    {
     "name": "stdout",
     "output_type": "stream",
     "text": [
      "1\n",
      "22\n",
      "333\n",
      "4444\n",
      "55555\n"
     ]
    }
   ],
   "source": [
    "# B)\n",
    "\n",
    "for i in range(1, 6):\n",
    "    for j in range(1, i+1):\n",
    "        print(i, end='')\n",
    "    print()"
   ]
  },
  {
   "cell_type": "code",
   "execution_count": 20,
   "id": "82dffdf8",
   "metadata": {},
   "outputs": [
    {
     "name": "stdout",
     "output_type": "stream",
     "text": [
      "12345\n",
      "1234\n",
      "123\n",
      "12\n",
      "1\n"
     ]
    }
   ],
   "source": [
    "# C)\n",
    "\n",
    "for i in range(5, 0, -1):\n",
    "    for j in range(1, i+1):\n",
    "        print(j, end='')\n",
    "    print()"
   ]
  },
  {
   "cell_type": "code",
   "execution_count": 21,
   "id": "98a8bd57",
   "metadata": {},
   "outputs": [
    {
     "name": "stdout",
     "output_type": "stream",
     "text": [
      "12345\n",
      "1234\n",
      "123\n",
      "12\n",
      "1\n"
     ]
    }
   ],
   "source": [
    "# D)\n",
    "\n",
    "for i in range(5,0,-1):\n",
    "    for j in range(1, i+1):\n",
    "        print(j, end='')\n",
    "    print()\n"
   ]
  },
  {
   "cell_type": "code",
   "execution_count": 22,
   "id": "5852ddc5",
   "metadata": {},
   "outputs": [
    {
     "name": "stdout",
     "output_type": "stream",
     "text": [
      "5 4 3 2 1 \n",
      "4 3 2 1 \n",
      "3 2 1 \n",
      "2 1 \n",
      "1 \n"
     ]
    }
   ],
   "source": [
    "# E)\n",
    "\n",
    "for i in range(5, 0, -1):\n",
    "    for j in range(i, 0, -1):\n",
    "        print(j, end=' ')\n",
    "    print()\n"
   ]
  },
  {
   "cell_type": "markdown",
   "id": "846f0c99",
   "metadata": {},
   "source": [
    "# Q25.Write a program to print the following star pattern using a loop\n",
    "a)*       b)*****   c)*****   d)*****    e)    *\n",
    "  **        *****     ****       ****         **\n",
    "  ***       *****     ***         ***        ***\n",
    "  ****      *****     **           **       ****\n",
    "  *****     *****     *             *      *****   "
   ]
  },
  {
   "cell_type": "code",
   "execution_count": 23,
   "id": "b4d8f4ae",
   "metadata": {},
   "outputs": [
    {
     "name": "stdout",
     "output_type": "stream",
     "text": [
      "\n",
      "*\n",
      "**\n",
      "***\n",
      "****\n",
      "*****\n"
     ]
    }
   ],
   "source": [
    "# A)\n",
    "\n",
    "for i in range(6):\n",
    "    for j in range(i):\n",
    "        print('*',end='')\n",
    "    print()"
   ]
  },
  {
   "cell_type": "code",
   "execution_count": 24,
   "id": "4fb79b63",
   "metadata": {},
   "outputs": [
    {
     "name": "stdout",
     "output_type": "stream",
     "text": [
      "******\n",
      "******\n",
      "******\n",
      "******\n",
      "******\n",
      "******\n"
     ]
    }
   ],
   "source": [
    "# B)\n",
    "\n",
    "for i in range(6):\n",
    "    for j in range(6):\n",
    "        print('*',end='')\n",
    "    print()"
   ]
  },
  {
   "cell_type": "code",
   "execution_count": 25,
   "id": "8b8986bc",
   "metadata": {},
   "outputs": [
    {
     "name": "stdout",
     "output_type": "stream",
     "text": [
      "*****\n",
      "****\n",
      "***\n",
      "**\n",
      "*\n"
     ]
    }
   ],
   "source": [
    "# C)\n",
    "\n",
    "for i in range(5,0,-1):\n",
    "    for j in range(1,i+1):\n",
    "        print('*',end='')\n",
    "    print()"
   ]
  },
  {
   "cell_type": "code",
   "execution_count": 26,
   "id": "796bf438",
   "metadata": {},
   "outputs": [
    {
     "name": "stdout",
     "output_type": "stream",
     "text": [
      "*****\n",
      " ****\n",
      "  ***\n",
      "   **\n",
      "    *\n"
     ]
    }
   ],
   "source": [
    "# D)\n",
    "\n",
    "for i in range(5):\n",
    "    for j in range(i):\n",
    "        print(' ', end='')\n",
    "    for k in range(5-i):\n",
    "        print('*', end='')\n",
    "    print()\n"
   ]
  },
  {
   "cell_type": "code",
   "execution_count": 27,
   "id": "4ad2290c",
   "metadata": {},
   "outputs": [
    {
     "name": "stdout",
     "output_type": "stream",
     "text": [
      "     *\n",
      "    **\n",
      "   ***\n",
      "  ****\n",
      " *****\n"
     ]
    }
   ],
   "source": [
    "# E)\n",
    "\n",
    "for i in range(5,0,-1):\n",
    "    for j in range(i):\n",
    "        print(' ',end='')\n",
    "    for k in range(6-i):\n",
    "        print('*',end='')\n",
    "    print()"
   ]
  },
  {
   "cell_type": "markdown",
   "id": "9e5e5cfd",
   "metadata": {},
   "source": [
    "# Q26.Write a program to print the following alphabet pattern using a loop.\n",
    "a)A       b)A     c)ABCDE    d)E E E E E\n",
    "  AB        BB      ABCD        D D D D\n",
    "  ABC       CCC     ABC          C C C\n",
    "  ABCD      DDDD    AB            B B\n",
    "  ABCDE     EEEEE   A              A"
   ]
  },
  {
   "cell_type": "code",
   "execution_count": 28,
   "id": "de49e471",
   "metadata": {},
   "outputs": [
    {
     "name": "stdout",
     "output_type": "stream",
     "text": [
      "A\n",
      "AB\n",
      "ABC\n",
      "ABCD\n",
      "ABCDE\n"
     ]
    }
   ],
   "source": [
    "# A)\n",
    "\n",
    "n = 5\n",
    "for i in range(n):\n",
    "    for j in range(i+1):\n",
    "        print(chr(65+j), end='')\n",
    "    print()"
   ]
  },
  {
   "cell_type": "code",
   "execution_count": 29,
   "id": "58c474fd",
   "metadata": {},
   "outputs": [
    {
     "name": "stdout",
     "output_type": "stream",
     "text": [
      "A\n",
      "BB\n",
      "CCC\n",
      "DDDD\n",
      "EEEEE\n"
     ]
    }
   ],
   "source": [
    "# B)\n",
    "\n",
    "n = 5\n",
    "for i in range(n):\n",
    "    for j in range(i+1):\n",
    "        print(chr(65+i), end='')\n",
    "    print()"
   ]
  },
  {
   "cell_type": "code",
   "execution_count": 30,
   "id": "42ad1a05",
   "metadata": {},
   "outputs": [
    {
     "name": "stdout",
     "output_type": "stream",
     "text": [
      "ABCDE\n",
      "ABCD\n",
      "ABC\n",
      "AB\n",
      "A\n"
     ]
    }
   ],
   "source": [
    "# C)\n",
    "\n",
    "for i in range(5):\n",
    "    for j in range(5-i):\n",
    "        print(chr(65+j), end='')\n",
    "    print()\n"
   ]
  },
  {
   "cell_type": "code",
   "execution_count": 31,
   "id": "6794af76",
   "metadata": {},
   "outputs": [
    {
     "name": "stdout",
     "output_type": "stream",
     "text": [
      "A  A  A  A  A  \n",
      "  B  B  B  B  \n",
      "    C  C  C  \n",
      "      D  D  \n",
      "        E  \n"
     ]
    }
   ],
   "source": [
    "# E)\n",
    "\n",
    "n = 5\n",
    "for i in range(n):\n",
    "    print(' ' * (i*2), end='')\n",
    "    for j in range(n-i):\n",
    "        print(chr(65+i), end='  ')\n",
    "    print()\n"
   ]
  },
  {
   "cell_type": "code",
   "execution_count": null,
   "id": "baeac2fe",
   "metadata": {},
   "outputs": [],
   "source": []
  }
 ],
 "metadata": {
  "kernelspec": {
   "display_name": "Python 3 (ipykernel)",
   "language": "python",
   "name": "python3"
  },
  "language_info": {
   "codemirror_mode": {
    "name": "ipython",
    "version": 3
   },
   "file_extension": ".py",
   "mimetype": "text/x-python",
   "name": "python",
   "nbconvert_exporter": "python",
   "pygments_lexer": "ipython3",
   "version": "3.9.13"
  }
 },
 "nbformat": 4,
 "nbformat_minor": 5
}
